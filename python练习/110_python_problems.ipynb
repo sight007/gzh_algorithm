{
 "cells": [
  {
   "cell_type": "markdown",
   "metadata": {},
   "source": [
    "# 1、一行代码实现0-100之和"
   ]
  },
  {
   "cell_type": "code",
   "execution_count": 1,
   "metadata": {},
   "outputs": [
    {
     "data": {
      "text/plain": [
       "5050"
      ]
     },
     "execution_count": 1,
     "metadata": {},
     "output_type": "execute_result"
    }
   ],
   "source": [
    "sum(range(1,101))"
   ]
  },
  {
   "cell_type": "markdown",
   "metadata": {},
   "source": [
    "# 2、如何在一个函数内部实现全局变量"
   ]
  },
  {
   "cell_type": "code",
   "execution_count": 17,
   "metadata": {},
   "outputs": [],
   "source": [
    "a = 5\n",
    "\n",
    "def fn():\n",
    "    global a\n",
    "    a = 4"
   ]
  },
  {
   "cell_type": "code",
   "execution_count": 3,
   "metadata": {},
   "outputs": [
    {
     "name": "stdout",
     "output_type": "stream",
     "text": [
      "4\n"
     ]
    }
   ],
   "source": [
    "fn()\n",
    "print(a)"
   ]
  },
  {
   "cell_type": "markdown",
   "metadata": {},
   "source": [
    "# 3、列出5个Python的标准库"
   ]
  },
  {
   "cell_type": "markdown",
   "metadata": {},
   "source": [
    "os：提供了不少操作系统相关的函数\n",
    "\n",
    "sys：常用语命令行参数\n",
    "\n",
    "re：正则匹配\n",
    "\n",
    "math\n",
    "\n",
    "datetime"
   ]
  },
  {
   "cell_type": "markdown",
   "metadata": {},
   "source": [
    "# 4、字典怎么删除键，如何合并两个字典"
   ]
  },
  {
   "cell_type": "code",
   "execution_count": 9,
   "metadata": {},
   "outputs": [],
   "source": [
    "dict = {'name':'a','age':18}"
   ]
  },
  {
   "cell_type": "code",
   "execution_count": 10,
   "metadata": {},
   "outputs": [
    {
     "data": {
      "text/plain": [
       "{'age': 18}"
      ]
     },
     "execution_count": 10,
     "metadata": {},
     "output_type": "execute_result"
    }
   ],
   "source": [
    "del dict['name']\n",
    "dict"
   ]
  },
  {
   "cell_type": "code",
   "execution_count": 14,
   "metadata": {},
   "outputs": [
    {
     "data": {
      "text/plain": [
       "{'age': 18, 'name': 'karl'}"
      ]
     },
     "execution_count": 14,
     "metadata": {},
     "output_type": "execute_result"
    }
   ],
   "source": [
    "dict2 = {'name':'karl'}\n",
    "dict.update(dict2)\n",
    "dict"
   ]
  },
  {
   "cell_type": "markdown",
   "metadata": {},
   "source": [
    "# 5、Python的GIL"
   ]
  },
  {
   "cell_type": "markdown",
   "metadata": {},
   "source": [
    "GIL 是python的全局解释器锁，同一进程中假如有多个线程运行，一个线程在运行python程序的时候会霸占python解释器（加了一把锁即GIL），使该进程内的其他线程无法运行，等该线程运行完后其他线程才能运行。如果线程运行过程中遇到耗时操作，则解释器锁解开，使其他线程运行。所以在多线程中，线程的运行仍是有先后顺序的，并不是同时进行。\n",
    "\n",
    "多进程中因为每个进程都能被系统分配资源，相当于每个进程有了一个python解释器，所以多进程可以实现多个进程的同时运行，缺点是进程系统资源开销大"
   ]
  },
  {
   "cell_type": "markdown",
   "metadata": {},
   "source": [
    "# 6、Python实现列表去重的方法"
   ]
  },
  {
   "cell_type": "code",
   "execution_count": 15,
   "metadata": {},
   "outputs": [],
   "source": [
    "list = [1,1,2,2,3,3,4,4,5,5]"
   ]
  },
  {
   "cell_type": "code",
   "execution_count": 17,
   "metadata": {},
   "outputs": [
    {
     "data": {
      "text/plain": [
       "{1, 2, 3, 4, 5}"
      ]
     },
     "execution_count": 17,
     "metadata": {},
     "output_type": "execute_result"
    }
   ],
   "source": [
    "a = set(list)"
   ]
  },
  {
   "cell_type": "code",
   "execution_count": 18,
   "metadata": {},
   "outputs": [
    {
     "data": {
      "text/plain": [
       "[1, 2, 3, 4, 5]"
      ]
     },
     "execution_count": 18,
     "metadata": {},
     "output_type": "execute_result"
    }
   ],
   "source": [
    "[x for x in a]"
   ]
  },
  {
   "cell_type": "markdown",
   "metadata": {},
   "source": [
    "# 7、fun(\\*args, \\**kwargs)是什么意思"
   ]
  },
  {
   "cell_type": "markdown",
   "metadata": {},
   "source": [
    "\\*args是用来发送一个非键值对的可变数量的参数列表给一个函数。"
   ]
  },
  {
   "cell_type": "code",
   "execution_count": 13,
   "metadata": {},
   "outputs": [],
   "source": [
    "def demo(args_f, *args_v):\n",
    "    print(args_f)\n",
    "    for x in args_v:\n",
    "        print(x)"
   ]
  },
  {
   "cell_type": "code",
   "execution_count": 14,
   "metadata": {},
   "outputs": [
    {
     "name": "stdout",
     "output_type": "stream",
     "text": [
      "a\n",
      "b\n",
      "c\n",
      "d\n"
     ]
    }
   ],
   "source": [
    "demo('a', 'b', 'c', 'd')"
   ]
  },
  {
   "cell_type": "markdown",
   "metadata": {},
   "source": [
    "\\**kwargs允许你将不定长的键值对，作为参数传递给一个函数。如果你想要在一个函数里处理带名字的参数，你应该使\\**kwargs"
   ]
  },
  {
   "cell_type": "code",
   "execution_count": 15,
   "metadata": {},
   "outputs": [],
   "source": [
    "def demo(**args_v):\n",
    "    for k,v in args_v.items():\n",
    "        print(k, v)"
   ]
  },
  {
   "cell_type": "code",
   "execution_count": 16,
   "metadata": {},
   "outputs": [
    {
     "name": "stdout",
     "output_type": "stream",
     "text": [
      "name njcx\n"
     ]
    }
   ],
   "source": [
    "demo(name='njcx')"
   ]
  },
  {
   "cell_type": "markdown",
   "metadata": {},
   "source": [
    "# 8、Python2和Python3的range(100)的区别"
   ]
  },
  {
   "cell_type": "markdown",
   "metadata": {},
   "source": [
    "python2返回列表，Python3返回迭代器，节约内存"
   ]
  },
  {
   "cell_type": "markdown",
   "metadata": {},
   "source": [
    "# 9、一句话解释什么样的语言能够使用装饰器"
   ]
  },
  {
   "cell_type": "markdown",
   "metadata": {},
   "source": [
    "函数可以作为参数传参的语言，可以使用装饰器"
   ]
  },
  {
   "cell_type": "markdown",
   "metadata": {},
   "source": [
    "# 10、Python的内嵌数据类型有哪些"
   ]
  },
  {
   "cell_type": "markdown",
   "metadata": {},
   "source": [
    "整型---int\n",
    "\n",
    "布尔型--bool\n",
    "\n",
    "字符串--str\n",
    "\n",
    "列表--list\n",
    "\n",
    "元组--tuple\n",
    "\n",
    "字典--dict\n",
    "\n"
   ]
  },
  {
   "cell_type": "markdown",
   "metadata": {},
   "source": [
    "# 11、简述面向对象中`__new__`和`__init__`的区别"
   ]
  },
  {
   "cell_type": "markdown",
   "metadata": {},
   "source": [
    "`__init__`是初始化方法，创建对象后，立即被默认调用了，可以接收参数，如题："
   ]
  },
  {
   "cell_type": "code",
   "execution_count": 21,
   "metadata": {},
   "outputs": [],
   "source": [
    "class Bike:\n",
    "    def __init__(self, newWheelNum, newColor):\n",
    "        self.wheelNum = newWheelNum\n",
    "        self.color = newColor\n",
    "    \n",
    "    def move(self):\n",
    "        print('车会跑')"
   ]
  },
  {
   "cell_type": "code",
   "execution_count": 22,
   "metadata": {},
   "outputs": [
    {
     "name": "stdout",
     "output_type": "stream",
     "text": [
      "车的颜色为：green\n",
      "车轮子数量为：2\n"
     ]
    }
   ],
   "source": [
    "BM = Bike(2, 'green')\n",
    "print('车的颜色为：%s' % BM.color)\n",
    "print('车轮子数量为：%d' % BM.wheelNum)"
   ]
  },
  {
   "cell_type": "markdown",
   "metadata": {},
   "source": [
    "1、`__new__`至少有一个参数cls,代表当前类，此参数在实例化时由Python解释器自动识别。\n",
    "\n",
    "2、`__new__`必须要有返回值，返回实例化出来的实例，这点在自己实现`__new__`时要特别注意，可以通过return父类（通过super(当前类，cls)）`__new__`出来的实例。\n",
    "\n",
    "3、`__init__`有个参数self，就是这个`__new__`返回的实例，`__init__`在`__new__`的基础上可以完成一些其他初始化的动作，`__init__`不需要返回值\n",
    "\n",
    "4、如果`__new__`创建的是当前类的实例，会自动调用`__init__`函数，通过return语句里面调用的`__new__`函数的第一个参数是cls来保证当前类实例。如果是其他类的类名，那么实际创建返回的就是其他类的实例，其实就不会调用当前类的`__init__`函数，也不会调用其他类的`__init__`。"
   ]
  },
  {
   "cell_type": "code",
   "execution_count": 24,
   "metadata": {},
   "outputs": [],
   "source": [
    "class A(object):\n",
    "    def __init__(self):\n",
    "        print('这是init方法',self)\n",
    "    \n",
    "    def __new__(cls):\n",
    "        print('这是cls的ID', id(cls))\n",
    "        print('这是new方法', object.__new__(cls))\n",
    "        return object.__new__(cls)"
   ]
  },
  {
   "cell_type": "code",
   "execution_count": 26,
   "metadata": {},
   "outputs": [
    {
     "name": "stdout",
     "output_type": "stream",
     "text": [
      "这是cls的ID 72738952\n",
      "这是new方法 <__main__.A object at 0x0000000007579978>\n",
      "这是init方法 <__main__.A object at 0x0000000007579978>\n",
      "这是类A的ID 72738952\n"
     ]
    }
   ],
   "source": [
    "A()\n",
    "print(\"这是类A的ID\", id(A))"
   ]
  },
  {
   "cell_type": "markdown",
   "metadata": {},
   "source": [
    "1、init方法的self和new方法的返回值地址一样，说明是同一个对象\n",
    "\n",
    "2、cls和类的ID一样，说明指向同一个类，也就是cls创建的实例类"
   ]
  },
  {
   "cell_type": "markdown",
   "metadata": {},
   "source": [
    "# 12、简述with方法打开处理文件帮我们做了什么？"
   ]
  },
  {
   "cell_type": "code",
   "execution_count": 27,
   "metadata": {},
   "outputs": [],
   "source": [
    "f = open('/1.txt', 'wb')\n",
    "try:\n",
    "    f.write('hello world')\n",
    "except:\n",
    "    pass\n",
    "finally:\n",
    "    f.close()"
   ]
  },
  {
   "cell_type": "markdown",
   "metadata": {},
   "source": [
    "打开文件在进行读写的时候肯能会出现一些异常状况，如果按照f.open的写法，我们需要try,except,finally做出异常判断，并且不管文件遇到什么情况，最终都会f.close()关闭文件，with方法帮我们实现了finally中f.close"
   ]
  },
  {
   "cell_type": "markdown",
   "metadata": {},
   "source": [
    "# 13、列表[1,2,3,4,5]，请使用map()函数输出[1,4,9,16,25]，并使用列表推导式提取出大于10的数，最终输出[16,25]"
   ]
  },
  {
   "cell_type": "code",
   "execution_count": 28,
   "metadata": {},
   "outputs": [],
   "source": [
    "lis = [1,2,3,4,5]"
   ]
  },
  {
   "cell_type": "code",
   "execution_count": 29,
   "metadata": {},
   "outputs": [],
   "source": [
    "def fn(x):\n",
    "    return x**2"
   ]
  },
  {
   "cell_type": "code",
   "execution_count": 33,
   "metadata": {},
   "outputs": [],
   "source": [
    "resa = map(fn, lis)"
   ]
  },
  {
   "cell_type": "code",
   "execution_count": 34,
   "metadata": {},
   "outputs": [],
   "source": [
    "resb = [i for i in resa if i > 10]"
   ]
  },
  {
   "cell_type": "code",
   "execution_count": 35,
   "metadata": {},
   "outputs": [
    {
     "data": {
      "text/plain": [
       "[16, 25]"
      ]
     },
     "execution_count": 35,
     "metadata": {},
     "output_type": "execute_result"
    }
   ],
   "source": [
    "resb"
   ]
  },
  {
   "cell_type": "markdown",
   "metadata": {},
   "source": [
    "# 14、Python中生成随机整数、随机小数、0-1之间的小数"
   ]
  },
  {
   "cell_type": "markdown",
   "metadata": {},
   "source": [
    "随机整数：random.randint(a, b)，生成区间内的整数\n",
    "\n",
    "随机小数：习惯numpy库，利用np.random.randn(5)，生成5个随机小数\n",
    "\n",
    "0-1随机小数：random.random()，括号中不传参"
   ]
  },
  {
   "cell_type": "code",
   "execution_count": 40,
   "metadata": {},
   "outputs": [],
   "source": [
    "import random\n",
    "import numpy as np"
   ]
  },
  {
   "cell_type": "code",
   "execution_count": 41,
   "metadata": {},
   "outputs": [
    {
     "data": {
      "text/plain": [
       "14"
      ]
     },
     "execution_count": 41,
     "metadata": {},
     "output_type": "execute_result"
    }
   ],
   "source": [
    "random.randint(10,20)"
   ]
  },
  {
   "cell_type": "code",
   "execution_count": 42,
   "metadata": {},
   "outputs": [
    {
     "data": {
      "text/plain": [
       "array([-1.30010374,  0.36755557,  0.83307711,  0.60718734, -0.45517848])"
      ]
     },
     "execution_count": 42,
     "metadata": {},
     "output_type": "execute_result"
    }
   ],
   "source": [
    "np.random.randn(5)"
   ]
  },
  {
   "cell_type": "code",
   "execution_count": 43,
   "metadata": {},
   "outputs": [
    {
     "data": {
      "text/plain": [
       "0.45649932149191175"
      ]
     },
     "execution_count": 43,
     "metadata": {},
     "output_type": "execute_result"
    }
   ],
   "source": [
    "random.random()"
   ]
  },
  {
   "cell_type": "markdown",
   "metadata": {},
   "source": [
    "# 15、避免转义给字符串加哪个字母表示原始字符串？"
   ]
  },
  {
   "cell_type": "markdown",
   "metadata": {},
   "source": [
    "`r`表示需要原始字符串，不转义特殊字符"
   ]
  },
  {
   "cell_type": "markdown",
   "metadata": {},
   "source": [
    "# 16、用正则匹配出标签里的内容，其中class的类名是不确定的"
   ]
  },
  {
   "cell_type": "code",
   "execution_count": 6,
   "metadata": {},
   "outputs": [],
   "source": [
    "str = r\"<div class='nam'>中国</div>\""
   ]
  },
  {
   "cell_type": "code",
   "execution_count": 7,
   "metadata": {},
   "outputs": [
    {
     "name": "stdout",
     "output_type": "stream",
     "text": [
      "['中国']\n"
     ]
    }
   ],
   "source": [
    "import re\n",
    "res = re.findall(r\"<div class='.*'>(.*?)</div>\",str)\n",
    "print(res)"
   ]
  },
  {
   "cell_type": "markdown",
   "metadata": {},
   "source": [
    "# 17、Python中断言方法使用"
   ]
  },
  {
   "cell_type": "markdown",
   "metadata": {},
   "source": [
    "`assert()`方法，断言成功则程序继续执行，断言失败，则程序失败"
   ]
  },
  {
   "cell_type": "code",
   "execution_count": 10,
   "metadata": {},
   "outputs": [],
   "source": [
    "a = 3\n",
    "assert(a>1)"
   ]
  },
  {
   "cell_type": "code",
   "execution_count": 11,
   "metadata": {},
   "outputs": [
    {
     "ename": "AssertionError",
     "evalue": "",
     "output_type": "error",
     "traceback": [
      "\u001b[1;31m---------------------------------------------------------------------------\u001b[0m",
      "\u001b[1;31mAssertionError\u001b[0m                            Traceback (most recent call last)",
      "\u001b[1;32m<ipython-input-11-715361129993>\u001b[0m in \u001b[0;36m<module>\u001b[1;34m()\u001b[0m\n\u001b[0;32m      1\u001b[0m \u001b[0mb\u001b[0m\u001b[1;33m=\u001b[0m\u001b[1;36m4\u001b[0m\u001b[1;33m\u001b[0m\u001b[0m\n\u001b[1;32m----> 2\u001b[1;33m \u001b[1;32massert\u001b[0m\u001b[1;33m(\u001b[0m\u001b[0mb\u001b[0m\u001b[1;33m>\u001b[0m\u001b[1;36m5\u001b[0m\u001b[1;33m)\u001b[0m\u001b[1;33m\u001b[0m\u001b[0m\n\u001b[0m",
      "\u001b[1;31mAssertionError\u001b[0m: "
     ]
    }
   ],
   "source": [
    "b=4\n",
    "assert(b>5)"
   ]
  },
  {
   "cell_type": "markdown",
   "metadata": {},
   "source": [
    "# 18、数据表student中，name重复，写出消除重复行的sql"
   ]
  },
  {
   "cell_type": "markdown",
   "metadata": {},
   "source": [
    "select distinct name from student"
   ]
  },
  {
   "cell_type": "markdown",
   "metadata": {},
   "source": [
    "# 19、10个Linux常用命令"
   ]
  },
  {
   "cell_type": "markdown",
   "metadata": {},
   "source": [
    "ls：用来列出目录下的文件\n",
    "\n",
    "pwd：显示工作目录\n",
    "\n",
    "cd:切换当前目录\n",
    "\n",
    "touch：用于修改文件或者目录的时间属性。如果文件不存在，系统则会创建一个新的文件。\n",
    "\n",
    "rm：删除一个文件或者目录\n",
    "\n",
    "mkdir：创建子目录\n",
    "\n",
    "tree：以树形结构列出目录的内容\n",
    "\n",
    "cp：复制文件或目录\n",
    "\n",
    "mv：用来为文件目录改名、或将文件目录移入其他位置\n",
    "\n",
    "cat：用于连接文件并打印到标准输出设备上\n",
    "\n",
    "more：类似于cat，不过会以一页一页的形式显示\n",
    "\n",
    "grep：(global search regular expression and print out the line 全面搜索正则表达式，并把行打印出来)一种强大的文本搜索工具\n",
    "\n",
    "echo：shell命令，用于字符串的输出。"
   ]
  },
  {
   "cell_type": "markdown",
   "metadata": {},
   "source": [
    "# 20、Python2和Python3区别？列举5个？"
   ]
  },
  {
   "cell_type": "markdown",
   "metadata": {},
   "source": [
    " - 1、Python3打印print必须要使用小括号包裹打印内容，比如`print('hello world')`，Python2可以带有小括号，也可以用空格分隔\n",
    " \n",
    " - 2、Python2中返回列表，Python3返回迭代器，节约内存\n",
    "\n",
    " - 3、Python2使用ASCII编码，Python3使用UTF-8\n",
    " \n",
    " - 4、Python2中Unicode表示字符串序列，str表示字节序列\n",
    "      Python3中str表示字符串序列，byte表示字节序列\n",
    " \n",
    " - 5、python2中引入coding声明，才能正常显示中文\n",
    "      Python3中不需要就能正常显示\n",
    " \n",
    " - 6、Python2中是raw_input()函数，Python3中是input()函数"
   ]
  },
  {
   "cell_type": "markdown",
   "metadata": {},
   "source": [
    "# 21、列举Python不可变数据类型和可变数据类型，并简述原理。 "
   ]
  },
  {
   "cell_type": "markdown",
   "metadata": {},
   "source": [
    "- 不可变数据数据类型：数值型、字符串型string和元组tuple\n",
    "\n",
    "    不允许变量值发生变化，如果改变了变量值，相当于创建了一个新对象，而相对于值的对象，在内存中只存在一个对象（地址），如下的地方法可以打印对象的id"
   ]
  },
  {
   "cell_type": "code",
   "execution_count": 36,
   "metadata": {
    "ExecuteTime": {
     "end_time": "2019-04-15T01:56:18.524999Z",
     "start_time": "2019-04-15T01:56:18.520999Z"
    }
   },
   "outputs": [],
   "source": [
    "a = 3\n",
    "b = 3"
   ]
  },
  {
   "cell_type": "code",
   "execution_count": 37,
   "metadata": {
    "ExecuteTime": {
     "end_time": "2019-04-15T01:56:18.699999Z",
     "start_time": "2019-04-15T01:56:18.696999Z"
    }
   },
   "outputs": [
    {
     "data": {
      "text/plain": [
       "1498508832"
      ]
     },
     "execution_count": 37,
     "metadata": {},
     "output_type": "execute_result"
    }
   ],
   "source": [
    "id(a)"
   ]
  },
  {
   "cell_type": "code",
   "execution_count": 38,
   "metadata": {
    "ExecuteTime": {
     "end_time": "2019-04-15T01:56:18.830999Z",
     "start_time": "2019-04-15T01:56:18.824999Z"
    }
   },
   "outputs": [
    {
     "data": {
      "text/plain": [
       "1498508832"
      ]
     },
     "execution_count": 38,
     "metadata": {},
     "output_type": "execute_result"
    }
   ],
   "source": [
    "id(b)"
   ]
  },
  {
   "cell_type": "markdown",
   "metadata": {
    "ExecuteTime": {
     "end_time": "2019-04-15T01:22:54.758999Z",
     "start_time": "2019-04-15T01:22:54.751999Z"
    }
   },
   "source": [
    "- 可变数据类型：列表list和字典dict\n",
    "\n",
    "    允许变量的值发生变化，如果对变量进行append、+、= 等这种操作后，，只是改变了变量的值，不会创建一个新对象，变量引用的对象的地址也不会发生变化。不过对于相同的值，不同的的对象，在内存中存在不同的对象，即每个对象都有自己的地址，，相当于内存中对于同值的对象保存了多份，这里不存在引用计数，是实实在在的对象。"
   ]
  },
  {
   "cell_type": "code",
   "execution_count": 39,
   "metadata": {
    "ExecuteTime": {
     "end_time": "2019-04-15T01:56:19.172999Z",
     "start_time": "2019-04-15T01:56:19.166999Z"
    }
   },
   "outputs": [],
   "source": [
    "a = [1,2]\n",
    "b = [1,2]"
   ]
  },
  {
   "cell_type": "code",
   "execution_count": 40,
   "metadata": {
    "ExecuteTime": {
     "end_time": "2019-04-15T01:56:19.307999Z",
     "start_time": "2019-04-15T01:56:19.302999Z"
    }
   },
   "outputs": [
    {
     "data": {
      "text/plain": [
       "127900232"
      ]
     },
     "execution_count": 40,
     "metadata": {},
     "output_type": "execute_result"
    }
   ],
   "source": [
    "id(a)"
   ]
  },
  {
   "cell_type": "code",
   "execution_count": 41,
   "metadata": {
    "ExecuteTime": {
     "end_time": "2019-04-15T01:56:19.464999Z",
     "start_time": "2019-04-15T01:56:19.460999Z"
    }
   },
   "outputs": [
    {
     "data": {
      "text/plain": [
       "127913096"
      ]
     },
     "execution_count": 41,
     "metadata": {},
     "output_type": "execute_result"
    }
   ],
   "source": [
    "id(b)"
   ]
  },
  {
   "cell_type": "markdown",
   "metadata": {},
   "source": [
    "# 22、s=\"ajldjlajfdljfddd\"，去重并从小到大排列输出\"adfjl\""
   ]
  },
  {
   "cell_type": "markdown",
   "metadata": {},
   "source": [
    "set去重，去重之后转为list，利用sort方法排序，Reeves=False是从小到大排。list是不变数据类型，s.sort时候没有返回值，所以注释代码写法不正确。"
   ]
  },
  {
   "cell_type": "code",
   "execution_count": 42,
   "metadata": {
    "ExecuteTime": {
     "end_time": "2019-04-15T01:56:19.933999Z",
     "start_time": "2019-04-15T01:56:19.930999Z"
    }
   },
   "outputs": [],
   "source": [
    "s = \"ajldjlajfdljfddd\""
   ]
  },
  {
   "cell_type": "code",
   "execution_count": 43,
   "metadata": {
    "ExecuteTime": {
     "end_time": "2019-04-15T01:56:20.095999Z",
     "start_time": "2019-04-15T01:56:20.091999Z"
    }
   },
   "outputs": [
    {
     "data": {
      "text/plain": [
       "{'a', 'd', 'f', 'j', 'l'}"
      ]
     },
     "execution_count": 43,
     "metadata": {},
     "output_type": "execute_result"
    }
   ],
   "source": [
    "s = set(s)\n",
    "s"
   ]
  },
  {
   "cell_type": "code",
   "execution_count": 44,
   "metadata": {
    "ExecuteTime": {
     "end_time": "2019-04-15T01:56:20.516999Z",
     "start_time": "2019-04-15T01:56:20.509999Z"
    }
   },
   "outputs": [
    {
     "data": {
      "text/plain": [
       "['a', 'l', 'd', 'f', 'j']"
      ]
     },
     "execution_count": 44,
     "metadata": {},
     "output_type": "execute_result"
    }
   ],
   "source": [
    "s = list(s)\n",
    "s"
   ]
  },
  {
   "cell_type": "code",
   "execution_count": 45,
   "metadata": {
    "ExecuteTime": {
     "end_time": "2019-04-15T01:56:20.709999Z",
     "start_time": "2019-04-15T01:56:20.704999Z"
    }
   },
   "outputs": [],
   "source": [
    "s.sort(reverse=False)\n",
    "# s = s.sort(reverse=Fasle)"
   ]
  },
  {
   "cell_type": "code",
   "execution_count": 46,
   "metadata": {
    "ExecuteTime": {
     "end_time": "2019-04-15T01:56:20.965999Z",
     "start_time": "2019-04-15T01:56:20.958999Z"
    }
   },
   "outputs": [
    {
     "name": "stdout",
     "output_type": "stream",
     "text": [
      "adfjl\n"
     ]
    }
   ],
   "source": [
    "res = \"\".join(s)\n",
    "print(res)"
   ]
  },
  {
   "cell_type": "markdown",
   "metadata": {},
   "source": [
    "# 23、lamda函数实现两个数相乘"
   ]
  },
  {
   "cell_type": "code",
   "execution_count": 47,
   "metadata": {
    "ExecuteTime": {
     "end_time": "2019-04-15T01:56:22.348999Z",
     "start_time": "2019-04-15T01:56:22.340999Z"
    }
   },
   "outputs": [
    {
     "name": "stdout",
     "output_type": "stream",
     "text": [
      "20\n"
     ]
    }
   ],
   "source": [
    "sum = lambda a,b:a*b\n",
    "print(sum(5,4))"
   ]
  },
  {
   "cell_type": "markdown",
   "metadata": {},
   "source": [
    "# 24、字典根据键从小到大排"
   ]
  },
  {
   "cell_type": "code",
   "execution_count": 48,
   "metadata": {
    "ExecuteTime": {
     "end_time": "2019-04-15T01:56:22.846999Z",
     "start_time": "2019-04-15T01:56:22.843999Z"
    }
   },
   "outputs": [],
   "source": [
    "dic = {\"name\":\"zs\",\"age\":18,\"city\":\"深圳\",\"tel\":\"1362626627\"}\n",
    "lis = sorted(dic.items(), key=lambda i:i[0], reverse=False)"
   ]
  },
  {
   "cell_type": "code",
   "execution_count": 49,
   "metadata": {
    "ExecuteTime": {
     "end_time": "2019-04-15T01:56:23.049999Z",
     "start_time": "2019-04-15T01:56:23.041999Z"
    }
   },
   "outputs": [
    {
     "data": {
      "text/plain": [
       "[('age', 18), ('city', '深圳'), ('name', 'zs'), ('tel', '1362626627')]"
      ]
     },
     "execution_count": 49,
     "metadata": {},
     "output_type": "execute_result"
    }
   ],
   "source": [
    "lis"
   ]
  },
  {
   "cell_type": "code",
   "execution_count": 50,
   "metadata": {
    "ExecuteTime": {
     "end_time": "2019-04-15T01:56:23.265999Z",
     "start_time": "2019-04-15T01:56:23.261999Z"
    },
    "scrolled": true
   },
   "outputs": [
    {
     "data": {
      "text/plain": [
       "{'age': 18, 'city': '深圳', 'name': 'zs', 'tel': '1362626627'}"
      ]
     },
     "execution_count": 50,
     "metadata": {},
     "output_type": "execute_result"
    }
   ],
   "source": [
    "dict(lis)"
   ]
  },
  {
   "cell_type": "markdown",
   "metadata": {},
   "source": [
    "# 25、利用collections库的Counter方法统计字符串每个单词出现的次数"
   ]
  },
  {
   "cell_type": "code",
   "execution_count": 52,
   "metadata": {
    "ExecuteTime": {
     "end_time": "2019-04-15T01:57:21.679999Z",
     "start_time": "2019-04-15T01:57:21.672999Z"
    }
   },
   "outputs": [],
   "source": [
    "from collections import Counter\n",
    "a =  \"kjalfj;ldsjafl;hdsllfdhg;lahfbl;hl;ahlf;h\""
   ]
  },
  {
   "cell_type": "code",
   "execution_count": 53,
   "metadata": {
    "ExecuteTime": {
     "end_time": "2019-04-15T01:57:40.867999Z",
     "start_time": "2019-04-15T01:57:40.854999Z"
    }
   },
   "outputs": [
    {
     "data": {
      "text/plain": [
       "Counter({';': 6,\n",
       "         'a': 4,\n",
       "         'b': 1,\n",
       "         'd': 3,\n",
       "         'f': 5,\n",
       "         'g': 1,\n",
       "         'h': 6,\n",
       "         'j': 3,\n",
       "         'k': 1,\n",
       "         'l': 9,\n",
       "         's': 2})"
      ]
     },
     "execution_count": 53,
     "metadata": {},
     "output_type": "execute_result"
    }
   ],
   "source": [
    "res = Counter(a)\n",
    "res"
   ]
  },
  {
   "cell_type": "markdown",
   "metadata": {},
   "source": [
    "# 26、字符串a=\"not 404 found 张三 99 深圳\"，每个词中间是空格，用正则过滤掉英文和数字，最终输出“张三 深圳”"
   ]
  },
  {
   "cell_type": "code",
   "execution_count": 7,
   "metadata": {
    "ExecuteTime": {
     "end_time": "2019-04-15T02:05:36.803999Z",
     "start_time": "2019-04-15T02:05:36.793999Z"
    }
   },
   "outputs": [],
   "source": [
    "import re\n",
    "a = \"not 404 found 张三 99 深圳\"\n",
    "list = a.split(\" \")"
   ]
  },
  {
   "cell_type": "code",
   "execution_count": 8,
   "metadata": {
    "ExecuteTime": {
     "end_time": "2019-04-15T02:05:53.634999Z",
     "start_time": "2019-04-15T02:05:53.624999Z"
    }
   },
   "outputs": [
    {
     "name": "stdout",
     "output_type": "stream",
     "text": [
      "['not', '404', 'found', '张三', '99', '深圳']\n"
     ]
    }
   ],
   "source": [
    "print(list)"
   ]
  },
  {
   "cell_type": "code",
   "execution_count": 9,
   "metadata": {},
   "outputs": [],
   "source": [
    "res = re.findall('\\d+\\.?\\d*|[a-zA-Z]+', a)\n",
    "for i in res:\n",
    "    if i in list:\n",
    "        list.remove(i)\n",
    "\n",
    "new_str = \" \".join(list)"
   ]
  },
  {
   "cell_type": "code",
   "execution_count": 10,
   "metadata": {},
   "outputs": [
    {
     "name": "stdout",
     "output_type": "stream",
     "text": [
      "['not', '404', 'found', '99']\n",
      "张三 深圳\n"
     ]
    }
   ],
   "source": [
    "print(res)\n",
    "print(new_str)"
   ]
  },
  {
   "cell_type": "markdown",
   "metadata": {},
   "source": [
    "匹配小数点的代码，虽然能匹配，但健壮性有待进一步确认。"
   ]
  },
  {
   "cell_type": "code",
   "execution_count": 15,
   "metadata": {},
   "outputs": [
    {
     "name": "stdout",
     "output_type": "stream",
     "text": [
      "['not', '404', '50.56', 'found', '张三', '99', '深圳']\n"
     ]
    }
   ],
   "source": [
    "import re\n",
    "a = \"not 404 50.56 found 张三 99 深圳\"\n",
    "list = a.split(\" \")\n",
    "print(list)"
   ]
  },
  {
   "cell_type": "code",
   "execution_count": 17,
   "metadata": {},
   "outputs": [],
   "source": [
    "res = re.findall('\\d+\\.?\\d*|[a-zA-Z]+', a)"
   ]
  },
  {
   "cell_type": "code",
   "execution_count": 19,
   "metadata": {},
   "outputs": [
    {
     "name": "stdout",
     "output_type": "stream",
     "text": [
      "张三 深圳\n"
     ]
    }
   ],
   "source": [
    "for i in res:\n",
    "    if i in list:\n",
    "        list.remove(i)\n",
    "new_str = \" \".join(list)\n",
    "print(new_str)"
   ]
  },
  {
   "cell_type": "markdown",
   "metadata": {},
   "source": [
    "# 27、filter方法求出列表所有的奇数并构造新列表，a = [1,2,3,4,5,6,7,8,9,10]"
   ]
  },
  {
   "cell_type": "markdown",
   "metadata": {},
   "source": [
    "filter()用于过滤序列，过滤掉不符合条件的元素，返回符合条件元素组成的新列表。\n",
    "接收两个参数：\n",
    "    - 第一个为函数\n",
    "    - 第二个为序列\n",
    "序列的每个元素作为参数传递给函数进行判断，然后返回True或False，最后返回true的元素放到新列表。"
   ]
  },
  {
   "cell_type": "code",
   "execution_count": 23,
   "metadata": {},
   "outputs": [
    {
     "name": "stdout",
     "output_type": "stream",
     "text": [
      "<filter object at 0x0000000007CE6C18>\n"
     ]
    }
   ],
   "source": [
    "a = [1,2,3,4,5,6,7,8,9,10]\n",
    "def fn(a):\n",
    "    return a%2==1\n",
    "newList = filter(fn, a)\n",
    "print(newList)"
   ]
  },
  {
   "cell_type": "code",
   "execution_count": 25,
   "metadata": {},
   "outputs": [
    {
     "name": "stdout",
     "output_type": "stream",
     "text": [
      "[1, 3, 5, 7, 9]\n"
     ]
    }
   ],
   "source": [
    "newList = [i for i in newList]\n",
    "print(newList)"
   ]
  },
  {
   "cell_type": "markdown",
   "metadata": {},
   "source": [
    "# 28、列表推导式求出列表所有奇数构造新列表，a=[1,2,3,4,5,6,7,8,9,10]"
   ]
  },
  {
   "cell_type": "code",
   "execution_count": 29,
   "metadata": {},
   "outputs": [
    {
     "name": "stdout",
     "output_type": "stream",
     "text": [
      "[1, 3, 5, 7, 9]\n"
     ]
    }
   ],
   "source": [
    "a=[1,2,3,4,5,6,7,8,9,10]\n",
    "res = [i for i in a if i%2==1]\n",
    "print(res)"
   ]
  },
  {
   "cell_type": "markdown",
   "metadata": {},
   "source": [
    "# 29、re.complie作用"
   ]
  },
  {
   "cell_type": "markdown",
   "metadata": {},
   "source": [
    "re.complie()是将正则表达式编译成一个对象，加快速度，并重复使用。"
   ]
  },
  {
   "cell_type": "markdown",
   "metadata": {},
   "source": [
    "# 30、a=(1,  ), b=(1), c=(\"1\")分别是什么类型的数据？"
   ]
  },
  {
   "cell_type": "code",
   "execution_count": 30,
   "metadata": {},
   "outputs": [
    {
     "data": {
      "text/plain": [
       "tuple"
      ]
     },
     "execution_count": 30,
     "metadata": {},
     "output_type": "execute_result"
    }
   ],
   "source": [
    "type((1, ))"
   ]
  },
  {
   "cell_type": "code",
   "execution_count": 31,
   "metadata": {},
   "outputs": [
    {
     "data": {
      "text/plain": [
       "int"
      ]
     },
     "execution_count": 31,
     "metadata": {},
     "output_type": "execute_result"
    }
   ],
   "source": [
    "type((1))"
   ]
  },
  {
   "cell_type": "code",
   "execution_count": 32,
   "metadata": {},
   "outputs": [
    {
     "data": {
      "text/plain": [
       "str"
      ]
     },
     "execution_count": 32,
     "metadata": {},
     "output_type": "execute_result"
    }
   ],
   "source": [
    "type((\"1\"))"
   ]
  },
  {
   "cell_type": "markdown",
   "metadata": {},
   "source": [
    "# 31、两个列表[1,5,7,9]和[2,2,6,8]合并成[1,2,2,3,6,7,8,9]"
   ]
  },
  {
   "cell_type": "markdown",
   "metadata": {},
   "source": [
    "extend可以将另一个集合中的元素注意添加到列表中，区别于append整体添加 "
   ]
  },
  {
   "cell_type": "code",
   "execution_count": 1,
   "metadata": {},
   "outputs": [],
   "source": [
    "list1 = [1,5,7,9]\n",
    "list2 = [2,2,6,8]"
   ]
  },
  {
   "cell_type": "code",
   "execution_count": 2,
   "metadata": {},
   "outputs": [
    {
     "name": "stdout",
     "output_type": "stream",
     "text": [
      "[1, 5, 7, 9, 2, 2, 6, 8]\n"
     ]
    }
   ],
   "source": [
    "list1.extend(list2)\n",
    "print(list1)"
   ]
  },
  {
   "cell_type": "code",
   "execution_count": 5,
   "metadata": {},
   "outputs": [
    {
     "name": "stdout",
     "output_type": "stream",
     "text": [
      "[1, 2, 2, 5, 6, 7, 8, 9]\n"
     ]
    }
   ],
   "source": [
    "list1.sort(reverse=False)\n",
    "print(list1)"
   ]
  },
  {
   "cell_type": "markdown",
   "metadata": {},
   "source": [
    "# 32、用Python删除文件和Linux删除文件的方法"
   ]
  },
  {
   "cell_type": "markdown",
   "metadata": {},
   "source": [
    "- Python：os.remove(文件名)\n",
    "- linux: rm 文件名"
   ]
  },
  {
   "cell_type": "markdown",
   "metadata": {},
   "source": [
    "## 33、log日志中，我们需要时间戳记录error，warning等的发生时间，请用datetime模块打印挡墙时间戳“2018-04-01 11:38:54”"
   ]
  },
  {
   "cell_type": "code",
   "execution_count": 6,
   "metadata": {},
   "outputs": [
    {
     "data": {
      "text/plain": [
       "'2019-04-24 18:04:44'"
      ]
     },
     "execution_count": 6,
     "metadata": {},
     "output_type": "execute_result"
    }
   ],
   "source": [
    "import datetime\n",
    "str(datetime.datetime.now().strftime('%Y-%m-%d %H:%M:%S'))"
   ]
  },
  {
   "cell_type": "code",
   "execution_count": 10,
   "metadata": {},
   "outputs": [
    {
     "data": {
      "text/plain": [
       "'星期：3'"
      ]
     },
     "execution_count": 10,
     "metadata": {},
     "output_type": "execute_result"
    }
   ],
   "source": [
    "'星期：' + str(datetime.datetime.now().isoweekday())"
   ]
  },
  {
   "cell_type": "markdown",
   "metadata": {},
   "source": [
    "# 34、数据库优化查询方法"
   ]
  },
  {
   "cell_type": "markdown",
   "metadata": {},
   "source": [
    "外键、索引、联合查询、选择特定字段"
   ]
  },
  {
   "cell_type": "markdown",
   "metadata": {},
   "source": [
    "## 35、请列出你会的任意一种统计图（条形图、折线图等）绘制的开源库，第三方也行"
   ]
  },
  {
   "cell_type": "markdown",
   "metadata": {},
   "source": [
    "pychart、matplotlib"
   ]
  },
  {
   "cell_type": "markdown",
   "metadata": {},
   "source": [
    "# 36、写一段自定义异常代码"
   ]
  },
  {
   "cell_type": "code",
   "execution_count": 12,
   "metadata": {},
   "outputs": [
    {
     "name": "stdout",
     "output_type": "stream",
     "text": [
      "数字大于2了\n"
     ]
    }
   ],
   "source": [
    "def fn():\n",
    "    try:\n",
    "        for i in range(5):\n",
    "            if  i>2:\n",
    "                raise Exception(\"数字大于2了\")\n",
    "    except Exception as ret:\n",
    "        print(ret)\n",
    "\n",
    "fn()"
   ]
  },
  {
   "cell_type": "markdown",
   "metadata": {},
   "source": [
    "# 37、正则表达式匹配中，(.*)和(.*?)匹配区别"
   ]
  },
  {
   "cell_type": "markdown",
   "metadata": {},
   "source": [
    "`(.*)`是贪婪匹配，会把满足正则的尽可能往后匹配\n",
    "\n",
    "`(.*?)`是非贪婪匹配，会把满足正则的尽可能少匹配。"
   ]
  },
  {
   "cell_type": "code",
   "execution_count": 15,
   "metadata": {},
   "outputs": [
    {
     "name": "stdout",
     "output_type": "stream",
     "text": [
      "['哈哈</a><a>呵呵']\n"
     ]
    }
   ],
   "source": [
    "s = \"<a>哈哈</a><a>呵呵</a>\"\n",
    "import re\n",
    "\n",
    "res1 = re.findall(\"<a>(.*)</a>\", s)\n",
    "print(res1)"
   ]
  },
  {
   "cell_type": "code",
   "execution_count": 16,
   "metadata": {},
   "outputs": [
    {
     "data": {
      "text/plain": [
       "['哈哈', '呵呵']"
      ]
     },
     "execution_count": 16,
     "metadata": {},
     "output_type": "execute_result"
    }
   ],
   "source": [
    "re.findall(\"<a>(.*?)</a>\", s)"
   ]
  },
  {
   "cell_type": "markdown",
   "metadata": {},
   "source": [
    "# 38、简述Django的orm"
   ]
  },
  {
   "cell_type": "markdown",
   "metadata": {},
   "source": [
    "ORM，全拼Object-Relation Mapping，意为对象-关系映射\n",
    "\n",
    "实现了数据模型与数据库的解耦，通过简单的配置就可以轻松更换数据库，而不需要修改代码只需要面向对象编程，orm操作本质上会根据对接的数据库引擎，翻译成对应的sql语句，所有使用Djiango开发的项目无需关心程序底层使用的是MySQL、Oracle、sqlite.....,如果数据库迁移，只需要更换Django的数据库引擎即可。\n",
    "\n"
   ]
  },
  {
   "cell_type": "markdown",
   "metadata": {},
   "source": [
    "# 39、[[1,2],[3,4],[5,6]]一行代码展开该列表，得出[1,2,3,4,5,6]"
   ]
  },
  {
   "cell_type": "code",
   "execution_count": 19,
   "metadata": {},
   "outputs": [
    {
     "name": "stdout",
     "output_type": "stream",
     "text": [
      "[1, 2, 3, 4, 5, 6]\n"
     ]
    }
   ],
   "source": [
    "a = [[1,2],[3,4],[5,6]]\n",
    "x = [j for i in a for j in i]\n",
    "print(x)"
   ]
  },
  {
   "cell_type": "markdown",
   "metadata": {},
   "source": [
    "# 40、x=\"abc\",y=\"def\",z=[\"d\",\"e\",\"f\"],分别求出x.join(y)和x.join(z)返回的结果"
   ]
  },
  {
   "cell_type": "code",
   "execution_count": 20,
   "metadata": {},
   "outputs": [],
   "source": [
    "x = \"abc\"\n",
    "y = \"def\"\n",
    "z = [\"d\",\"e\",\"f\"]"
   ]
  },
  {
   "cell_type": "code",
   "execution_count": 21,
   "metadata": {},
   "outputs": [
    {
     "data": {
      "text/plain": [
       "'dabceabcf'"
      ]
     },
     "execution_count": 21,
     "metadata": {},
     "output_type": "execute_result"
    }
   ],
   "source": [
    "x.join(y)"
   ]
  },
  {
   "cell_type": "code",
   "execution_count": 22,
   "metadata": {},
   "outputs": [
    {
     "data": {
      "text/plain": [
       "'dabceabcf'"
      ]
     },
     "execution_count": 22,
     "metadata": {},
     "output_type": "execute_result"
    }
   ],
   "source": [
    "x.join(z)"
   ]
  },
  {
   "cell_type": "markdown",
   "metadata": {},
   "source": [
    "## 41、举例说明异常模块中try except else finally的相关意义"
   ]
  },
  {
   "cell_type": "markdown",
   "metadata": {},
   "source": [
    "try...except...else：没有捕获到异常，执行else语句\n",
    "\n",
    "try...except...finally：不管是否捕获到异常，都执行finally语句"
   ]
  },
  {
   "cell_type": "code",
   "execution_count": 1,
   "metadata": {},
   "outputs": [
    {
     "name": "stdout",
     "output_type": "stream",
     "text": [
      "100\n",
      "没有捕获到异常，则执行该语句\n"
     ]
    }
   ],
   "source": [
    "try:\n",
    "    num = 100\n",
    "    print(100)\n",
    "except NameError as errorMsg:\n",
    "    print('产生了错误：%s' % errorMsg)\n",
    "else:\n",
    "    print('没有捕获到异常，则执行该语句')"
   ]
  },
  {
   "cell_type": "code",
   "execution_count": 2,
   "metadata": {},
   "outputs": [
    {
     "name": "stdout",
     "output_type": "stream",
     "text": [
      "100\n",
      "不管是否捕获到异常，都执行该语句\n"
     ]
    }
   ],
   "source": [
    "try:\n",
    "    num = 100\n",
    "    print(100)\n",
    "except NameError as errorMsg:\n",
    "    print('产生了错误：%s' % errorMsg)\n",
    "else:\n",
    "    print('不管是否捕获到异常，都执行该语句')"
   ]
  },
  {
   "cell_type": "markdown",
   "metadata": {},
   "source": [
    "## 42、python中交换两个数值"
   ]
  },
  {
   "cell_type": "code",
   "execution_count": 3,
   "metadata": {},
   "outputs": [
    {
     "name": "stdout",
     "output_type": "stream",
     "text": [
      "3 4\n"
     ]
    }
   ],
   "source": [
    "a, b = 3, 4\n",
    "print(a,b)"
   ]
  },
  {
   "cell_type": "code",
   "execution_count": 4,
   "metadata": {},
   "outputs": [
    {
     "name": "stdout",
     "output_type": "stream",
     "text": [
      "4 3\n"
     ]
    }
   ],
   "source": [
    "a, b = b, a\n",
    "print(a, b)"
   ]
  },
  {
   "cell_type": "markdown",
   "metadata": {},
   "source": [
    "## 43、举例说明zip()函数用法"
   ]
  },
  {
   "cell_type": "markdown",
   "metadata": {},
   "source": [
    "zip()函数在运算时，会以一个或多个序列（可迭代对象）作为参数，返回一个元组的列表。同时将这些序列中并排的元素配对。\n",
    "\n",
    "zip()参数可以接收任何类型的序列，同时也可以有两个以上的参数；当传入的参数长度不同时，zip能自动以最短的序列长度为准进行截取，获得元组。"
   ]
  },
  {
   "cell_type": "code",
   "execution_count": 6,
   "metadata": {},
   "outputs": [
    {
     "name": "stdout",
     "output_type": "stream",
     "text": [
      "[(1, 3), (2, 4)]\n"
     ]
    }
   ],
   "source": [
    "a = [1, 2]\n",
    "b = [3, 4]\n",
    "res = [i for i in zip(a, b)]\n",
    "print(res)"
   ]
  },
  {
   "cell_type": "code",
   "execution_count": 8,
   "metadata": {},
   "outputs": [
    {
     "name": "stdout",
     "output_type": "stream",
     "text": [
      "[(1, 3), (2, 4)]\n"
     ]
    }
   ],
   "source": [
    "a = (1, 2)\n",
    "b = (3, 4)\n",
    "res = [i for i in zip(a, b)]\n",
    "print(res)"
   ]
  },
  {
   "cell_type": "code",
   "execution_count": 9,
   "metadata": {},
   "outputs": [
    {
     "name": "stdout",
     "output_type": "stream",
     "text": [
      "[('a', 'x'), ('b', 'y')]\n"
     ]
    }
   ],
   "source": [
    "a = \"ab\"\n",
    "b = \"xyz\"\n",
    "res = [i for i in zip(a, b)]\n",
    "print(res)"
   ]
  },
  {
   "cell_type": "markdown",
   "metadata": {},
   "source": [
    "## 44、a=\"张明98分\"，用re.sub，将98替换成100"
   ]
  },
  {
   "cell_type": "code",
   "execution_count": 10,
   "metadata": {},
   "outputs": [
    {
     "name": "stdout",
     "output_type": "stream",
     "text": [
      "张明100分\n"
     ]
    }
   ],
   "source": [
    "import re\n",
    "a = \"张明98分\"\n",
    "ret = re.sub(r\"\\d+\",\"100\",a)\n",
    "print(ret)"
   ]
  },
  {
   "cell_type": "markdown",
   "metadata": {},
   "source": [
    "## 45、写出5条常用的sql语句"
   ]
  },
  {
   "cell_type": "markdown",
   "metadata": {},
   "source": [
    "show databasees;\n",
    "\n",
    "show tables;\n",
    "\n",
    "desc 表名;\n",
    "\n",
    "select * from 表名;\n",
    "\n",
    "delete from 表名 where id=5;\n",
    "\n",
    "update students get gender=0, hometown=\"北京\" where id=5;\n"
   ]
  },
  {
   "cell_type": "markdown",
   "metadata": {},
   "source": [
    "## 46、a=\"hello\"和b=\"你好\"编码成bytes类型"
   ]
  },
  {
   "cell_type": "code",
   "execution_count": 11,
   "metadata": {},
   "outputs": [
    {
     "name": "stdout",
     "output_type": "stream",
     "text": [
      "<class 'bytes'>\n"
     ]
    }
   ],
   "source": [
    "a = b\"hello\"\n",
    "print(type(a))"
   ]
  },
  {
   "cell_type": "code",
   "execution_count": 12,
   "metadata": {},
   "outputs": [
    {
     "name": "stdout",
     "output_type": "stream",
     "text": [
      "<class 'bytes'>\n"
     ]
    }
   ],
   "source": [
    "b = \"哈哈\".encode()\n",
    "print(type(b))"
   ]
  },
  {
   "cell_type": "markdown",
   "metadata": {},
   "source": [
    "## 47、[1,2,3]+[4,5,6]的结果是多少？"
   ]
  },
  {
   "cell_type": "markdown",
   "metadata": {},
   "source": [
    "两个列表相加，等价于extend"
   ]
  },
  {
   "cell_type": "code",
   "execution_count": 13,
   "metadata": {},
   "outputs": [
    {
     "name": "stdout",
     "output_type": "stream",
     "text": [
      "[1, 2, 3, 4, 5, 6]\n"
     ]
    }
   ],
   "source": [
    "a=[1,2,3]\n",
    "b=[4,5,6]\n",
    "print(a+b)"
   ]
  },
  {
   "cell_type": "markdown",
   "metadata": {},
   "source": [
    "## 48、提高python运行效率的方法"
   ]
  },
  {
   "cell_type": "markdown",
   "metadata": {},
   "source": [
    "- 使用生成器，因为可以节约大量内存\n",
    "- 循环代码优化，避免过多的重复代码执行\n",
    "- 核心模块用Cython PyPy等，提高效率\n",
    "- 多进程，多线程，协程\n",
    "- 多个if elseif条件判断，可以把最有可能先发生的条件放到前面写，这样可以减少程序判断的次数，提高效率"
   ]
  },
  {
   "cell_type": "markdown",
   "metadata": {},
   "source": [
    "## 49、简述MySQL和Redis区别"
   ]
  },
  {
   "cell_type": "markdown",
   "metadata": {},
   "source": [
    "Redis：内存型非关系数据库，数据保存在内存中，速度快。\n",
    "\n",
    "MySQL：关系型数据库，数据保存在磁盘中，检索的话，会有一定的IO操作，访问速度相对慢"
   ]
  },
  {
   "cell_type": "markdown",
   "metadata": {},
   "source": [
    "## 50、遇到bug如何处理"
   ]
  },
  {
   "cell_type": "markdown",
   "metadata": {},
   "source": [
    "1，细节上的错误，通过print()打印，能执行到print()说明一般上面的代码没有问题，分段检测程序是否有问题，如果是js的话，可以alert或console.log()\n",
    "\n",
    "2,如果涉及一些第三方框架，会去查官方文档或者一些技术博客。\n",
    "\n",
    "3,对于bug的管理与归类总结，一般测试将测试出的bug用teambin等bug管理工具进行记录，然后我们会一条一条进行修改，修改的过程也是理解业务逻辑和提高自己编程逻辑缜密行的方法，我们也会收藏做一些笔记记录。\n",
    "\n",
    "4，导包问题、城市定位多音字造成的显示错误问题"
   ]
  },
  {
   "cell_type": "markdown",
   "metadata": {},
   "source": [
    "## 51、正则匹配，匹配日期2018-03-20"
   ]
  },
  {
   "cell_type": "code",
   "execution_count": 1,
   "metadata": {},
   "outputs": [],
   "source": [
    "url='https://sycm.taobao.com/bda/tradinganaly/overview/get_summary.json?dateRange=2018-03-20%7C2018-03-20&dateType=recent1&device=1&token=ff25b109b&_=1521595613462'"
   ]
  },
  {
   "cell_type": "code",
   "execution_count": 3,
   "metadata": {},
   "outputs": [
    {
     "data": {
      "text/plain": [
       "[('2018-03-20', '2018-03-20')]"
      ]
     },
     "execution_count": 3,
     "metadata": {},
     "output_type": "execute_result"
    }
   ],
   "source": [
    "import re\n",
    "re.findall(r'dateRange=(.*?)%7C(.*?)&', url)"
   ]
  },
  {
   "cell_type": "markdown",
   "metadata": {},
   "source": [
    "## 52、list=[2,3,5,4,9,6],从小到大排序，不许用sort，输出[2,3,4,5,6,9]"
   ]
  },
  {
   "cell_type": "markdown",
   "metadata": {},
   "source": [
    "利用min()方法求出最小值，原列表删除最小值，新列表添加最小值，递归调用最小值，反复操作"
   ]
  },
  {
   "cell_type": "code",
   "execution_count": 4,
   "metadata": {},
   "outputs": [
    {
     "name": "stdout",
     "output_type": "stream",
     "text": [
      "[2, 3, 4, 5, 6, 9]\n"
     ]
    }
   ],
   "source": [
    "list=[2,3,5,4,9,6]\n",
    "new_list=[]\n",
    "\n",
    "def get_min(list):\n",
    "    a=min(list)\n",
    "    list.remove(a)\n",
    "    new_list.append(a)\n",
    "    if len(list)>0:\n",
    "        get_min(list)\n",
    "    return new_list\n",
    "\n",
    "new_list=get_min(list)\n",
    "print(new_list)"
   ]
  },
  {
   "cell_type": "markdown",
   "metadata": {},
   "source": [
    "## 53、写一个单列模式"
   ]
  },
  {
   "cell_type": "markdown",
   "metadata": {},
   "source": [
    "因为对象创建时会执行`__new__`方法，并且必须返回实例化出来的对象，所以`cls.__instance`是否存在，不存在的话就创建对象，存在的话就返回该对象，来保证只有一个实例对象存在，打印ID，值一样，说明对象同一个。"
   ]
  },
  {
   "cell_type": "code",
   "execution_count": 6,
   "metadata": {},
   "outputs": [
    {
     "ename": "NameError",
     "evalue": "name '_Singleton__instance' is not defined",
     "output_type": "error",
     "traceback": [
      "\u001b[1;31m---------------------------------------------------------------------------\u001b[0m",
      "\u001b[1;31mNameError\u001b[0m                                 Traceback (most recent call last)",
      "\u001b[1;32m<ipython-input-6-2f95596b7c2d>\u001b[0m in \u001b[0;36m<module>\u001b[1;34m()\u001b[0m\n\u001b[1;32m----> 1\u001b[1;33m \u001b[1;32mclass\u001b[0m \u001b[0mSingleton\u001b[0m\u001b[1;33m(\u001b[0m\u001b[0mobject\u001b[0m\u001b[1;33m)\u001b[0m\u001b[1;33m:\u001b[0m\u001b[1;33m\u001b[0m\u001b[0m\n\u001b[0m\u001b[0;32m      2\u001b[0m     \u001b[0m__instance\u001b[0m \u001b[1;33m==\u001b[0m \u001b[1;32mNone\u001b[0m\u001b[1;33m\u001b[0m\u001b[0m\n\u001b[0;32m      3\u001b[0m \u001b[1;33m\u001b[0m\u001b[0m\n\u001b[0;32m      4\u001b[0m     \u001b[1;32mdef\u001b[0m \u001b[0m__new__\u001b[0m\u001b[1;33m(\u001b[0m\u001b[0mcls\u001b[0m\u001b[1;33m,\u001b[0m \u001b[0mage\u001b[0m\u001b[1;33m,\u001b[0m \u001b[0mname\u001b[0m\u001b[1;33m)\u001b[0m\u001b[1;33m:\u001b[0m\u001b[1;33m\u001b[0m\u001b[0m\n\u001b[0;32m      5\u001b[0m         \u001b[1;32mif\u001b[0m \u001b[1;32mnot\u001b[0m \u001b[0mcls\u001b[0m\u001b[1;33m.\u001b[0m\u001b[0m__instance\u001b[0m\u001b[1;33m:\u001b[0m\u001b[1;33m\u001b[0m\u001b[0m\n",
      "\u001b[1;32m<ipython-input-6-2f95596b7c2d>\u001b[0m in \u001b[0;36mSingleton\u001b[1;34m()\u001b[0m\n\u001b[0;32m      1\u001b[0m \u001b[1;32mclass\u001b[0m \u001b[0mSingleton\u001b[0m\u001b[1;33m(\u001b[0m\u001b[0mobject\u001b[0m\u001b[1;33m)\u001b[0m\u001b[1;33m:\u001b[0m\u001b[1;33m\u001b[0m\u001b[0m\n\u001b[1;32m----> 2\u001b[1;33m     \u001b[0m__instance\u001b[0m \u001b[1;33m==\u001b[0m \u001b[1;32mNone\u001b[0m\u001b[1;33m\u001b[0m\u001b[0m\n\u001b[0m\u001b[0;32m      3\u001b[0m \u001b[1;33m\u001b[0m\u001b[0m\n\u001b[0;32m      4\u001b[0m     \u001b[1;32mdef\u001b[0m \u001b[0m__new__\u001b[0m\u001b[1;33m(\u001b[0m\u001b[0mcls\u001b[0m\u001b[1;33m,\u001b[0m \u001b[0mage\u001b[0m\u001b[1;33m,\u001b[0m \u001b[0mname\u001b[0m\u001b[1;33m)\u001b[0m\u001b[1;33m:\u001b[0m\u001b[1;33m\u001b[0m\u001b[0m\n\u001b[0;32m      5\u001b[0m         \u001b[1;32mif\u001b[0m \u001b[1;32mnot\u001b[0m \u001b[0mcls\u001b[0m\u001b[1;33m.\u001b[0m\u001b[0m__instance\u001b[0m\u001b[1;33m:\u001b[0m\u001b[1;33m\u001b[0m\u001b[0m\n",
      "\u001b[1;31mNameError\u001b[0m: name '_Singleton__instance' is not defined"
     ]
    }
   ],
   "source": [
    "class Singleton(object):\n",
    "    __instance == None\n",
    "    \n",
    "    def __new__(cls, age, name):\n",
    "        if not cls.__instance:\n",
    "            cls.__instance = object.__new__(cls)\n",
    "        return cls.__instance\n",
    "\n",
    "a = Singleton(18,\"dongGe\")\n",
    "a = Singleton(8,\"dongGe\")\n",
    "    \n",
    "print(id(a))\n",
    "print(id(b))"
   ]
  },
  {
   "cell_type": "markdown",
   "metadata": {},
   "source": [
    "## 54、保留两位小数"
   ]
  },
  {
   "cell_type": "code",
   "execution_count": 9,
   "metadata": {},
   "outputs": [
    {
     "name": "stdout",
     "output_type": "stream",
     "text": [
      "1.333 <class 'str'>\n"
     ]
    }
   ],
   "source": [
    "a = \"%.03f\" % 1.3335\n",
    "print(a, type(a))"
   ]
  },
  {
   "cell_type": "code",
   "execution_count": 10,
   "metadata": {},
   "outputs": [
    {
     "name": "stdout",
     "output_type": "stream",
     "text": [
      "1.3\n"
     ]
    }
   ],
   "source": [
    "b = round(float(a), 1)\n",
    "print(b)"
   ]
  },
  {
   "cell_type": "code",
   "execution_count": 11,
   "metadata": {},
   "outputs": [
    {
     "name": "stdout",
     "output_type": "stream",
     "text": [
      "1.33\n"
     ]
    }
   ],
   "source": [
    "c = round(float(a), 2)\n",
    "print(c)"
   ]
  },
  {
   "cell_type": "code",
   "execution_count": 13,
   "metadata": {},
   "outputs": [
    {
     "name": "stdout",
     "output_type": "stream",
     "text": [
      "<zip object at 0x00000000080A1648>\n"
     ]
    }
   ],
   "source": [
    "a = zip((\"a\",\"b\",\"c\",\"d\",\"e\"),(1,2,3,4,5))\n",
    "print(a)"
   ]
  },
  {
   "cell_type": "code",
   "execution_count": 14,
   "metadata": {},
   "outputs": [
    {
     "name": "stdout",
     "output_type": "stream",
     "text": [
      "{'a': 1, 'b': 2, 'c': 3, 'd': 4, 'e': 5}\n"
     ]
    }
   ],
   "source": [
    "a0 = dict(a)\n",
    "print(a0)"
   ]
  },
  {
   "cell_type": "markdown",
   "metadata": {},
   "source": [
    "## 54、求三个方法的打印结果"
   ]
  },
  {
   "cell_type": "code",
   "execution_count": 16,
   "metadata": {},
   "outputs": [],
   "source": [
    "def fn(k,v,dic={}):\n",
    "    dic[k]=v\n",
    "    print(dic)"
   ]
  },
  {
   "cell_type": "code",
   "execution_count": 17,
   "metadata": {},
   "outputs": [
    {
     "name": "stdout",
     "output_type": "stream",
     "text": [
      "{'one': 1}\n"
     ]
    }
   ],
   "source": [
    "fn(\"one\", 1)"
   ]
  },
  {
   "cell_type": "code",
   "execution_count": 18,
   "metadata": {},
   "outputs": [
    {
     "name": "stdout",
     "output_type": "stream",
     "text": [
      "{'one': 1, 'two': 2}\n"
     ]
    }
   ],
   "source": [
    "fn(\"two\", 2)"
   ]
  },
  {
   "cell_type": "code",
   "execution_count": 19,
   "metadata": {},
   "outputs": [
    {
     "name": "stdout",
     "output_type": "stream",
     "text": [
      "{'three': 3}\n"
     ]
    }
   ],
   "source": [
    "fn(\"three\",3,{})"
   ]
  },
  {
   "cell_type": "markdown",
   "metadata": {},
   "source": [
    "## 56、列出常见的状态码和意义"
   ]
  },
  {
   "cell_type": "markdown",
   "metadata": {},
   "source": [
    "200 OK \n",
    "请求正常处理完毕\n",
    "\n",
    "204 No Content \n",
    "请求成功处理，没有实体的主体返回\n",
    "\n",
    "206 Partial Content \n",
    "GET范围请求已成功处理\n",
    "\n",
    "301 Moved Permanently \n",
    "永久重定向，资源已永久分配新URI\n",
    "\n",
    "302 Found \n",
    "临时重定向，资源已临时分配新URI\n",
    "\n",
    "303 See Other \n",
    "临时重定向，期望使用GET定向获取\n",
    "\n",
    "304 Not Modified \n",
    "发送的附带条件请求未满足\n",
    "\n",
    "307 Temporary Redirect \n",
    "临时重定向，POST不会变成GET\n",
    "\n",
    "400 Bad Request \n",
    "请求报文语法错误或参数错误\n",
    "\n",
    "401 Unauthorized \n",
    "需要通过HTTP认证，或认证失败\n",
    "\n",
    "403 Forbidden \n",
    "请求资源被拒绝\n",
    "\n",
    "404 Not Found \n",
    "无法找到请求资源（服务器无理由拒绝）\n",
    "\n",
    "500 Internal Server Error \n",
    "服务器故障或Web应用故障\n",
    "\n",
    "503 Service Unavailable \n",
    "服务器超负载或停机维护"
   ]
  },
  {
   "cell_type": "markdown",
   "metadata": {},
   "source": [
    "## 57、分别从前端、后端、数据库阐述web项目的性能优化。"
   ]
  },
  {
   "cell_type": "markdown",
   "metadata": {},
   "source": [
    "#### 前端优化\n",
    "* 减少http请求，例如制作精灵图\n",
    "* HTML和css放在页面上部，JavaScript放在页面的下面，因为js的加载比HTML和css加载慢，所以要优先加载HTML和css，以防止页面显示不全，性能差，也影响用户体验。 \n",
    "\n",
    "#### 后端优化\n",
    "* 缓存存储读写次数高，变化少的数据，比如网站首页的信息、商品的信息等。应用程序读写数据是，一般先是存缓从中读取，如果读取不到或数据已失效，在访问磁盘数据库，并将数据再次写入缓存。\n",
    "* 异步方式，如果有耗时操作，可以采用一部，比如celery\n",
    "* 代码优化，避免循环和判断次数太多，如果多个if else判断，优先判断最有可能发生的情况。\n",
    "\n",
    "#### 数据库优化\n",
    "* 有条件，数据可以放到Redis，读取速度快\n",
    "* 建立索引，外键等"
   ]
  },
  {
   "cell_type": "markdown",
   "metadata": {},
   "source": [
    "## 58、使用`pop`和`del`删除字典中的name字段，dic={\"name\":\"zs\",\"age\":18}"
   ]
  },
  {
   "cell_type": "code",
   "execution_count": 21,
   "metadata": {},
   "outputs": [
    {
     "name": "stdout",
     "output_type": "stream",
     "text": [
      "{'age': 18}\n"
     ]
    }
   ],
   "source": [
    "dic = {\"name\":\"zs\",\"age\":18}\n",
    "dic.pop(\"name\")\n",
    "print(dic)"
   ]
  },
  {
   "cell_type": "code",
   "execution_count": 22,
   "metadata": {},
   "outputs": [
    {
     "name": "stdout",
     "output_type": "stream",
     "text": [
      "{'age': 18}\n"
     ]
    }
   ],
   "source": [
    "dic = {\"name\":\"zs\",\"age\":18}\n",
    "del dic[\"name\"]\n",
    "print(dic)"
   ]
  },
  {
   "cell_type": "markdown",
   "metadata": {},
   "source": [
    "## 59、列出常见MySQL数据存储引擎"
   ]
  },
  {
   "cell_type": "markdown",
   "metadata": {},
   "source": [
    "### InnoDB\n",
    "- 支持事务处理，支持外键，支持崩溃修复功能和并发控制。如果对事物的完整性要求比较高（比如银行），要求实现并发控制（比如售票），那么选择InnoDB有很大的优势。如果需要频繁更新、删除操作的数据库，也可以选择InnoDB，因为支持事务的提交（commit）和回滚（rollback）。\n",
    "\n",
    "### MyISAM\n",
    "- 数据插入快，空间和内存的使用比较低。如果表主要用于插入记录和读出记录，那么选择MyISAM能实现高效率。如果完整性，并发性比较低，也可以使用。\n",
    "\n",
    "### MEMORY\n",
    "- 所有的数据都在内存中，数据处理快，但是安全性不高。如果需要很快的读写速度，对数据的安全性能要求较低，可以选择，MEMOEY。它对表的大小有要求，不能建立太大的表，所以，这类数据库只能使用相对较小的数据库表。"
   ]
  },
  {
   "cell_type": "markdown",
   "metadata": {},
   "source": [
    "## 60、计算没代码的运算结果，zip函数已经说了，得出`[(\"a\":1),(\"b\":2),(\"c\":3),(\"d\":4),(\"e\":5)]`"
   ]
  },
  {
   "cell_type": "code",
   "execution_count": 28,
   "metadata": {},
   "outputs": [
    {
     "name": "stdout",
     "output_type": "stream",
     "text": [
      "<zip object at 0x0000000005DDC448>\n"
     ]
    }
   ],
   "source": [
    "A = zip((\"a\",\"b\",\"c\",\"d\",\"e\"),(1,2,3,4,5))\n",
    "print(A)"
   ]
  },
  {
   "cell_type": "code",
   "execution_count": 29,
   "metadata": {},
   "outputs": [
    {
     "name": "stdout",
     "output_type": "stream",
     "text": [
      "{'a': 1, 'b': 2, 'c': 3, 'd': 4, 'e': 5}\n"
     ]
    }
   ],
   "source": [
    "A0 = dict(A)\n",
    "print(A0)"
   ]
  },
  {
   "cell_type": "code",
   "execution_count": 31,
   "metadata": {},
   "outputs": [
    {
     "name": "stdout",
     "output_type": "stream",
     "text": [
      "range(0, 10)\n"
     ]
    }
   ],
   "source": [
    "A1 = range(10) \n",
    "print(A1)"
   ]
  },
  {
   "cell_type": "code",
   "execution_count": 27,
   "metadata": {},
   "outputs": [
    {
     "name": "stdout",
     "output_type": "stream",
     "text": [
      "[]\n"
     ]
    }
   ],
   "source": [
    "A2 = [i for i in A1 if i in A0]\n",
    "print(A2)"
   ]
  },
  {
   "cell_type": "code",
   "execution_count": 33,
   "metadata": {},
   "outputs": [
    {
     "name": "stdout",
     "output_type": "stream",
     "text": [
      "[1, 2, 3, 4, 5]\n"
     ]
    }
   ],
   "source": [
    "A3 = [A0[s] for s in A0]\n",
    "print(A3)"
   ]
  },
  {
   "cell_type": "markdown",
   "metadata": {},
   "source": [
    "#### dict()创建字典新方法"
   ]
  },
  {
   "cell_type": "code",
   "execution_count": 34,
   "metadata": {},
   "outputs": [
    {
     "name": "stdout",
     "output_type": "stream",
     "text": [
      "{'name': 'zs', 'age': 18}\n"
     ]
    }
   ],
   "source": [
    "s = dict([[\"name\",\"zs\"],[\"age\",18]])\n",
    "print(s)"
   ]
  },
  {
   "cell_type": "code",
   "execution_count": 35,
   "metadata": {},
   "outputs": [
    {
     "data": {
      "text/plain": [
       "{'age': 18, 'name': 'zs'}"
      ]
     },
     "execution_count": 35,
     "metadata": {},
     "output_type": "execute_result"
    }
   ],
   "source": [
    "dict([(\"name\",\"zs\"),(\"age\",18)]) "
   ]
  },
  {
   "cell_type": "markdown",
   "metadata": {},
   "source": [
    "## 61、简述同源策略"
   ]
  },
  {
   "cell_type": "markdown",
   "metadata": {},
   "source": [
    "同源策略需要同时满足以下三点\n",
    "\n",
    "1.  协议相同\n",
    "2.  域名相同\n",
    "3.  端口相同"
   ]
  },
  {
   "cell_type": "markdown",
   "metadata": {},
   "source": [
    "## 62、简述cookie和session的区别"
   ]
  },
  {
   "cell_type": "markdown",
   "metadata": {},
   "source": [
    "1. session在服务器端，cookie在客户端\n",
    "\n",
    "2. session依赖session ID，而session id是存在cookie中的，也就是说，如果浏览器禁用了cookie，同事session也会失效，存储session时，键与cookie中的session id相同，只是开发人员设置的键值对信息，进行了base64编码，过期时由开发人员设置\n",
    "\n",
    "3. cookie安全性比session差"
   ]
  },
  {
   "cell_type": "markdown",
   "metadata": {},
   "source": [
    "## 63、简述多线程和多进程"
   ]
  },
  {
   "cell_type": "markdown",
   "metadata": {},
   "source": [
    "### 进程\n",
    "- 操作系统进行资源分配和调度的基本单位 ，多进程之间相互独立\n",
    "- 稳定性好，如果一个进程崩溃，不影响其他进程，但是进程消耗资源大，开启进程数量有限制"
   ]
  },
  {
   "cell_type": "markdown",
   "metadata": {},
   "source": [
    "### 线程\n",
    "- CPU进行资源分配和调度的基本单位，线程是进程的一部分，是比进程更小的能独立运行的基本单位，一个进程的多线程可以共享给进程的所有资源\n",
    "\n",
    "- 如果IO操作密集，则多线程运行效率高，缺点是一个线程崩溃，都会造成进程的崩溃"
   ]
  },
  {
   "cell_type": "markdown",
   "metadata": {},
   "source": [
    "### 应用\n",
    "IO密集的用多线程，在用户输入，sleep时候，可以切换到其他线程执行，减少等待时间\n",
    "\n",
    "CPU密集的用多进程，因为加入IO操作少，用多线程的话，因为全局共享一个进程解释器锁，当前运行的线程会霸占GIL，其他的线程没有GIL，进不能充分利用多核CPU的优势"
   ]
  },
  {
   "cell_type": "markdown",
   "metadata": {},
   "source": [
    "## 64、简述any()和all()方法"
   ]
  },
  {
   "cell_type": "markdown",
   "metadata": {},
   "source": [
    "- any()：是要迭代器中有一个元素为真就为真\n",
    "- all()：迭代器中多有的判断都为真，结果才是真"
   ]
  },
  {
   "cell_type": "markdown",
   "metadata": {},
   "source": [
    "### python中什么元素为假？"
   ]
  },
  {
   "cell_type": "markdown",
   "metadata": {},
   "source": [
    "0，空字符串，空列表，空字典，空元组，None，FALSE"
   ]
  },
  {
   "cell_type": "markdown",
   "metadata": {},
   "source": [
    "## 65、下面错误代表什么异常？"
   ]
  },
  {
   "cell_type": "markdown",
   "metadata": {},
   "source": [
    "- IOError：输入输出异常\n",
    "- AttributeError：试图访问一个对象没有的属性\n",
    "- ImportError：无法引入模块或包，基本是路径问题\n",
    "- IndentationError：语法错误，没有正确的对齐\n",
    "- IndexError：下标索引超出序列边界\n",
    "- KeyError：试图访问字典里不存在的键\n",
    "- SyntaxError：python代码逻辑语法出错，不能解决\n",
    "- NameError：使用一个还未赋予对象的变量"
   ]
  },
  {
   "cell_type": "markdown",
   "metadata": {},
   "source": [
    "## 66、python中copy()和deepcopy()的区别"
   ]
  },
  {
   "cell_type": "markdown",
   "metadata": {},
   "source": [
    "#### 复制不可变数据类型\n",
    "复制不可变数据类型，不管是copy()还是deepcopy()，都是同一个地址。当浅复制的值是不可变数据对象（数值，字符串，元组）时和=“赋值”的情况一样，对象的id与浅复制原来的值相同。\n",
    "\n",
    "#### 复制的值是可变对象（列表、字典）\n",
    "浅拷贝有两种情况\n",
    "\n",
    "- 第一种情况：复制的对象中无复杂子对象，原来的值的改变也不会影响原来的值。原来值的id值与浅复制原来的值不同。\n",
    "- 第二种情况：复制的对象中有复杂子对象（例如，列表中一个元素是一个列表），改变原来的值中的复杂子对象的值，会影响浅复制的值。\n",
    "\n",
    "#### 深拷贝deepcopy()：完全复制独立，包括内层列表和字典"
   ]
  },
  {
   "cell_type": "markdown",
   "metadata": {},
   "source": [
    "## 67、列出几种魔法方法并简要介绍用途"
   ]
  },
  {
   "cell_type": "markdown",
   "metadata": {},
   "source": [
    "`__init__`：对象初始化方法\n",
    "\n",
    "`__new__`：创建对象的时候执行的方法，单例模式会用到\n",
    "\n",
    "`__str__`：当使用print输出对象的时候，只要自己定义了`__str__(self)`方法，那么就会打印从这个方法return 的数值\n",
    "\n",
    "`__del__`：删除对象执行的方法"
   ]
  },
  {
   "cell_type": "markdown",
   "metadata": {},
   "source": [
    "## 68、命令行启动程序并且传参"
   ]
  },
  {
   "cell_type": "markdown",
   "metadata": {},
   "source": [
    "运行 C:user>python 1.py 22 33，print(sys.argv)会输出什么数据？\n",
    "\n",
    "['1.py','22','33']"
   ]
  },
  {
   "cell_type": "markdown",
   "metadata": {},
   "source": [
    "##  69、请将[i for i in range(3)]改成生成器"
   ]
  },
  {
   "cell_type": "markdown",
   "metadata": {},
   "source": [
    "生成器是特殊的迭代器\n",
    "- 列表表达式的[]改为()即可变成生成器\n",
    "- 函数在返回值得时候出现yield就变成生成器，而不是函数了"
   ]
  },
  {
   "cell_type": "code",
   "execution_count": 2,
   "metadata": {},
   "outputs": [],
   "source": [
    "a = (i for i in range(3))"
   ]
  },
  {
   "cell_type": "code",
   "execution_count": 3,
   "metadata": {},
   "outputs": [
    {
     "data": {
      "text/plain": [
       "generator"
      ]
     },
     "execution_count": 3,
     "metadata": {},
     "output_type": "execute_result"
    }
   ],
   "source": [
    "type(a)"
   ]
  },
  {
   "cell_type": "markdown",
   "metadata": {},
   "source": [
    "## 70、去掉首尾的空格"
   ]
  },
  {
   "cell_type": "code",
   "execution_count": 4,
   "metadata": {},
   "outputs": [],
   "source": [
    "a = \"  hehheh  \""
   ]
  },
  {
   "cell_type": "code",
   "execution_count": 5,
   "metadata": {},
   "outputs": [
    {
     "data": {
      "text/plain": [
       "'hehheh'"
      ]
     },
     "execution_count": 5,
     "metadata": {},
     "output_type": "execute_result"
    }
   ],
   "source": [
    "a.strip()"
   ]
  },
  {
   "cell_type": "markdown",
   "metadata": {},
   "source": [
    "## 71、列举sort和sorted对列表进行排序"
   ]
  },
  {
   "cell_type": "code",
   "execution_count": 3,
   "metadata": {},
   "outputs": [
    {
     "name": "stdout",
     "output_type": "stream",
     "text": [
      "[-10, -1, 0, 3, 5, 9]\n"
     ]
    }
   ],
   "source": [
    "list = [0,-1,3,-10,5,9]\n",
    "\n",
    "list.sort(reverse=False)\n",
    "print(list)"
   ]
  },
  {
   "cell_type": "code",
   "execution_count": 4,
   "metadata": {},
   "outputs": [
    {
     "name": "stdout",
     "output_type": "stream",
     "text": [
      "[-10, -1, 0, 3, 5, 9]\n"
     ]
    }
   ],
   "source": [
    "list = [0,-1,3,-10,5,9]\n",
    "\n",
    "res = sorted(list, reverse=False)\n",
    "print(res)"
   ]
  },
  {
   "cell_type": "markdown",
   "metadata": {},
   "source": [
    "## 72、使用lambda函数对list排序：要求正数从小到大，负数从大到小"
   ]
  },
  {
   "cell_type": "markdown",
   "metadata": {},
   "source": [
    "`sorted(foo,key=fun)`key中传入一个函数的表达式，依次运算foo列表的一个值\n",
    "\n",
    "传入两个条件 `x<0`和`abs(x)`"
   ]
  },
  {
   "cell_type": "code",
   "execution_count": 8,
   "metadata": {},
   "outputs": [],
   "source": [
    "foo = [-5,8,0,4,9,-4,-20,-2,8,2,-4]"
   ]
  },
  {
   "cell_type": "code",
   "execution_count": 9,
   "metadata": {},
   "outputs": [
    {
     "name": "stdout",
     "output_type": "stream",
     "text": [
      "[0, 2, 4, 8, 8, 9, -2, -4, -4, -5, -20]\n"
     ]
    }
   ],
   "source": [
    "a = sorted(foo, key=lambda x:(x<0, abs(x)))\n",
    "print(a)"
   ]
  },
  {
   "cell_type": "markdown",
   "metadata": {},
   "source": [
    "## 73、使用lambda函数对list从小到大排序"
   ]
  },
  {
   "cell_type": "code",
   "execution_count": 10,
   "metadata": {},
   "outputs": [],
   "source": [
    "foo = [-5,8,0,4,9,-4,-20,-2,8,2,-4]"
   ]
  },
  {
   "cell_type": "code",
   "execution_count": 12,
   "metadata": {},
   "outputs": [
    {
     "name": "stdout",
     "output_type": "stream",
     "text": [
      "[-20, -5, -4, -4, -2, 0, 2, 4, 8, 8, 9]\n"
     ]
    }
   ],
   "source": [
    "a = sorted(foo, key=lambda x:x)\n",
    "print(a)"
   ]
  },
  {
   "cell_type": "markdown",
   "metadata": {},
   "source": [
    "## 74、列表嵌套字典排序，分别根据年龄和姓名排序"
   ]
  },
  {
   "cell_type": "code",
   "execution_count": 20,
   "metadata": {},
   "outputs": [],
   "source": [
    "foo = [{\"name\":\"zs\",\"age\":19},{\"name\":\"ll\",\"age\":54},{\"name\":\"wa\",\"age\":17},{\"name\":\"df\",\"age\":23}]"
   ]
  },
  {
   "cell_type": "code",
   "execution_count": 21,
   "metadata": {},
   "outputs": [
    {
     "name": "stdout",
     "output_type": "stream",
     "text": [
      "[{'name': 'wa', 'age': 17}, {'name': 'zs', 'age': 19}, {'name': 'df', 'age': 23}, {'name': 'll', 'age': 54}]\n"
     ]
    }
   ],
   "source": [
    "age_sort = sorted(foo, key=lambda x:x[\"age\"], reverse=False)\n",
    "print(age_sort)"
   ]
  },
  {
   "cell_type": "code",
   "execution_count": 23,
   "metadata": {},
   "outputs": [
    {
     "name": "stdout",
     "output_type": "stream",
     "text": [
      "[{'name': 'df', 'age': 23}, {'name': 'll', 'age': 54}, {'name': 'wa', 'age': 17}, {'name': 'zs', 'age': 19}]\n"
     ]
    }
   ],
   "source": [
    "name_sort = sorted(foo, key=lambda x:x[\"name\"])\n",
    "print(name_sort)"
   ]
  },
  {
   "cell_type": "markdown",
   "metadata": {},
   "source": [
    "## 75、列表嵌套元组，分别按照子母和数字排序"
   ]
  },
  {
   "cell_type": "code",
   "execution_count": 2,
   "metadata": {},
   "outputs": [],
   "source": [
    "foo = [(\"zs\",19),(\"ll\",54),(\"wa\",17),(\"df\",23)]"
   ]
  },
  {
   "cell_type": "code",
   "execution_count": 3,
   "metadata": {},
   "outputs": [
    {
     "name": "stdout",
     "output_type": "stream",
     "text": [
      "[('wa', 17), ('zs', 19), ('df', 23), ('ll', 54)]\n"
     ]
    }
   ],
   "source": [
    "age_sort = sorted(foo, key=lambda x:x[1], reverse=False)\n",
    "print(age_sort)"
   ]
  },
  {
   "cell_type": "code",
   "execution_count": 4,
   "metadata": {},
   "outputs": [
    {
     "name": "stdout",
     "output_type": "stream",
     "text": [
      "[('df', 23), ('ll', 54), ('wa', 17), ('zs', 19)]\n"
     ]
    }
   ],
   "source": [
    "name_sort = sorted(foo, key=lambda x:x[0])\n",
    "print(name_sort)"
   ]
  },
  {
   "cell_type": "markdown",
   "metadata": {},
   "source": [
    "## 76、列表嵌套列表排序，年龄数字相同怎么办？"
   ]
  },
  {
   "cell_type": "code",
   "execution_count": 5,
   "metadata": {},
   "outputs": [],
   "source": [
    "foo = [[\"zs\",19],[\"ll\",23],[\"wa\",23],[\"df\",23],[\"ll\",54]]"
   ]
  },
  {
   "cell_type": "markdown",
   "metadata": {},
   "source": [
    "如上所示，如果对年龄排序，但是多个列表年龄相同？   `key= lambda x:(condition1, contidtion2)`可以传入两个参数，类似于sql语句的order by后面多个排序条件"
   ]
  },
  {
   "cell_type": "code",
   "execution_count": 6,
   "metadata": {},
   "outputs": [
    {
     "name": "stdout",
     "output_type": "stream",
     "text": [
      "[['zs', 19], ['df', 23], ['ll', 23], ['wa', 23], ['ll', 54]]\n"
     ]
    }
   ],
   "source": [
    "a = sorted(foo, key=lambda x:(x[1],x[0]))\n",
    "print(a)"
   ]
  },
  {
   "cell_type": "markdown",
   "metadata": {},
   "source": [
    "## 77、根据键对对字典排序（方法一，zip函数）"
   ]
  },
  {
   "cell_type": "code",
   "execution_count": 7,
   "metadata": {},
   "outputs": [],
   "source": [
    "dic = {\"name\":\"zs\",\"sex\":\"man\",\"city\":\"bj\"}"
   ]
  },
  {
   "cell_type": "code",
   "execution_count": 8,
   "metadata": {},
   "outputs": [
    {
     "name": "stdout",
     "output_type": "stream",
     "text": [
      "<zip object at 0x0000000008176FC8>\n"
     ]
    }
   ],
   "source": [
    "foo = zip(dic.keys(),dic.values())\n",
    "print(foo)"
   ]
  },
  {
   "cell_type": "code",
   "execution_count": 10,
   "metadata": {},
   "outputs": [
    {
     "name": "stdout",
     "output_type": "stream",
     "text": [
      "[('name', 'zs'), ('sex', 'man'), ('city', 'bj')]\n"
     ]
    }
   ],
   "source": [
    "foo = [i for i in foo]\n",
    "print(foo)"
   ]
  },
  {
   "cell_type": "code",
   "execution_count": 11,
   "metadata": {},
   "outputs": [
    {
     "name": "stdout",
     "output_type": "stream",
     "text": [
      "[('city', 'bj'), ('name', 'zs'), ('sex', 'man')]\n"
     ]
    }
   ],
   "source": [
    "# 根据键排序\n",
    "a = sorted(foo, key=lambda x:x[0])\n",
    "print(a)"
   ]
  },
  {
   "cell_type": "code",
   "execution_count": 12,
   "metadata": {},
   "outputs": [
    {
     "name": "stdout",
     "output_type": "stream",
     "text": [
      "{'city': 'bj', 'name': 'zs', 'sex': 'man'}\n"
     ]
    }
   ],
   "source": [
    "# 字典推导式构建新字典\n",
    "new_dict = {i[0]:i[1] for i in a}\n",
    "print(new_dict)"
   ]
  },
  {
   "cell_type": "markdown",
   "metadata": {},
   "source": [
    "## 78、根据键对字典排序（方法二，不用zip函数）"
   ]
  },
  {
   "cell_type": "markdown",
   "metadata": {},
   "source": [
    "有没有发现`dic.items()`和`dic.keys() dic.values()`都是为构建列表嵌套字典结构，方便后期用sorted构造规则排序，因此它们具有相同的作用"
   ]
  },
  {
   "cell_type": "code",
   "execution_count": 16,
   "metadata": {},
   "outputs": [
    {
     "name": "stdout",
     "output_type": "stream",
     "text": [
      "dict_items([('name', 'zs'), ('sex', 'man'), ('city', 'bj')])\n"
     ]
    }
   ],
   "source": [
    "dic = {\"name\":\"zs\",\"sex\":\"man\",\"city\":\"bj\"}\n",
    "print(dic.items())"
   ]
  },
  {
   "cell_type": "code",
   "execution_count": 17,
   "metadata": {},
   "outputs": [
    {
     "name": "stdout",
     "output_type": "stream",
     "text": [
      "[('city', 'bj'), ('name', 'zs'), ('sex', 'man')]\n"
     ]
    }
   ],
   "source": [
    "a = sorted(dic.items(), key=lambda x:x[0])\n",
    "print(a)"
   ]
  },
  {
   "cell_type": "code",
   "execution_count": 20,
   "metadata": {},
   "outputs": [
    {
     "name": "stdout",
     "output_type": "stream",
     "text": [
      "{'name': 'zs', 'sex': 'man', 'city': 'bj'}\n"
     ]
    }
   ],
   "source": [
    "new_dict = {x[0]:x[1] for x in dic.items()}\n",
    "print(new_dict)"
   ]
  },
  {
   "cell_type": "markdown",
   "metadata": {},
   "source": [
    "## 79、列表推导式，字典推导式，生成器"
   ]
  },
  {
   "cell_type": "code",
   "execution_count": 28,
   "metadata": {},
   "outputs": [
    {
     "name": "stdout",
     "output_type": "stream",
     "text": [
      "[0, 1, 2, 3, 4, 5, 6, 7, 8, 9]\n"
     ]
    }
   ],
   "source": [
    "# 列表推导式\n",
    "a = [i for i in range(10)]\n",
    "print(a)"
   ]
  },
  {
   "cell_type": "code",
   "execution_count": 29,
   "metadata": {},
   "outputs": [
    {
     "name": "stdout",
     "output_type": "stream",
     "text": [
      "<generator object <genexpr> at 0x0000000006107678>\n"
     ]
    }
   ],
   "source": [
    "# 生成器\n",
    "b = (i for i in range(10))\n",
    "print(b)"
   ]
  },
  {
   "cell_type": "code",
   "execution_count": 30,
   "metadata": {},
   "outputs": [
    {
     "name": "stdout",
     "output_type": "stream",
     "text": [
      "{'a': 6, 'b': 8, 'c': 8, 'd': 7}\n"
     ]
    }
   ],
   "source": [
    "# 字典推导式\n",
    "import random\n",
    "c = {i:random.randint(4,9) for i in [\"a\",\"b\",\"c\",\"d\"]}\n",
    "print(c)"
   ]
  },
  {
   "cell_type": "markdown",
   "metadata": {},
   "source": [
    "## 80、根据字符串的长度排序"
   ]
  },
  {
   "cell_type": "code",
   "execution_count": 31,
   "metadata": {},
   "outputs": [
    {
     "name": "stdout",
     "output_type": "stream",
     "text": [
      "['d', 'fd', 'fsa', 'fdsfdfd']\n"
     ]
    }
   ],
   "source": [
    "s = [\"fsa\",\"d\",\"fdsfdfd\",\"fd\"]\n",
    "a = sorted(s, key=lambda x:len(x))\n",
    "print(a)"
   ]
  },
  {
   "cell_type": "markdown",
   "metadata": {},
   "source": [
    "## 81、举例说明sql注入和解决办法"
   ]
  },
  {
   "cell_type": "markdown",
   "metadata": {},
   "source": [
    "当以字符串格式书写方式的时候，如果用户输的`;+SQL`语句，后面的sql语句会执行，比如例子中的sql注入会删除数据库DEMO"
   ]
  },
  {
   "cell_type": "code",
   "execution_count": 1,
   "metadata": {},
   "outputs": [
    {
     "name": "stdout",
     "output_type": "stream",
     "text": [
      "正常SQL语句 select * from demo where name='zs'\n"
     ]
    }
   ],
   "source": [
    "# SQL注入\n",
    "# 例如一条SQL语句是\n",
    "\n",
    "input_name = \"zs\"\n",
    "sql = \"select * from demo where name='%s'\" % input_name\n",
    "print(\"正常SQL语句\",sql)"
   ]
  },
  {
   "cell_type": "code",
   "execution_count": 2,
   "metadata": {},
   "outputs": [
    {
     "name": "stdout",
     "output_type": "stream",
     "text": [
      "SQL注入语句 select  * from demo where name=\"zs;drop database demo\"\n"
     ]
    }
   ],
   "source": [
    "input_name = \"zs;drop database demo\"\n",
    "sql = 'select  * from demo where name=\"%s\"' % input_name\n",
    "print(\"SQL注入语句\", sql)"
   ]
  },
  {
   "cell_type": "markdown",
   "metadata": {},
   "source": [
    "#####  解决方式：通过传参的方式解决SQL注入"
   ]
  },
  {
   "cell_type": "code",
   "execution_count": 3,
   "metadata": {},
   "outputs": [],
   "source": [
    "params = [input_name]\n",
    "cs1.execute('select * from goods where name=%s', params)"
   ]
  },
  {
   "cell_type": "markdown",
   "metadata": {},
   "source": []
  },
  {
   "cell_type": "markdown",
   "metadata": {},
   "source": [
    "## 82、冒号或者空格同时切割字符串"
   ]
  },
  {
   "cell_type": "markdown",
   "metadata": {},
   "source": [
    "##### 在正则当中 `|` 表示或者的意思"
   ]
  },
  {
   "cell_type": "code",
   "execution_count": 4,
   "metadata": {},
   "outputs": [],
   "source": [
    "s=\"info:xiaoZhang 33 shandong\""
   ]
  },
  {
   "cell_type": "code",
   "execution_count": 5,
   "metadata": {},
   "outputs": [
    {
     "name": "stdout",
     "output_type": "stream",
     "text": [
      "['info', 'xiaoZhang', '33', 'shandong']\n"
     ]
    }
   ],
   "source": [
    "import re\n",
    "res = re.split(r\":| \", s)\n",
    "print(res)"
   ]
  },
  {
   "cell_type": "markdown",
   "metadata": {},
   "source": [
    "## 83、正则匹配一163.com结尾的邮箱"
   ]
  },
  {
   "cell_type": "code",
   "execution_count": 10,
   "metadata": {},
   "outputs": [],
   "source": [
    "email_list = [\"dsgdssg@163.com\", \"xiao@163.comheihei\", \"dnjs@qq.com\"]"
   ]
  },
  {
   "cell_type": "code",
   "execution_count": 11,
   "metadata": {},
   "outputs": [
    {
     "name": "stdout",
     "output_type": "stream",
     "text": [
      "dsgdssg@163.com 是符合规定的邮件地址,匹配后的结果是：dsgdssg@163.com\n",
      "xiao@163.comheihei 不符合要求\n",
      "dnjs@qq.com 不符合要求\n"
     ]
    }
   ],
   "source": [
    "for email in email_list:\n",
    "    ret = re.match(\"[\\w]{4,20}@163\\.com$\", email)\n",
    "    if ret:\n",
    "        print(\"%s 是符合规定的邮件地址,匹配后的结果是：%s\" % (email, ret.group()))\n",
    "    else:\n",
    "        print(\"%s 不符合要求\" % email)"
   ]
  },
  {
   "cell_type": "markdown",
   "metadata": {},
   "source": [
    "## 84、递归求和"
   ]
  },
  {
   "cell_type": "code",
   "execution_count": 14,
   "metadata": {},
   "outputs": [
    {
     "name": "stdout",
     "output_type": "stream",
     "text": [
      "55\n"
     ]
    }
   ],
   "source": [
    "def get_sum(num):\n",
    "    if num >= 1:\n",
    "        res = num + get_sum(num-1)\n",
    "    else:\n",
    "        res = 0\n",
    "    \n",
    "    return res\n",
    "\n",
    "\n",
    "res = get_sum(10)\n",
    "print(res)"
   ]
  },
  {
   "cell_type": "markdown",
   "metadata": {},
   "source": [
    "## 85、python字典和json字符串相互转化方法"
   ]
  },
  {
   "cell_type": "markdown",
   "metadata": {},
   "source": [
    "`json.dumps()`字典转json字符串，`json.loads()` json转字典"
   ]
  },
  {
   "cell_type": "code",
   "execution_count": 16,
   "metadata": {},
   "outputs": [
    {
     "name": "stdout",
     "output_type": "stream",
     "text": [
      "{\"name\": \"zs\"} <class 'str'>\n"
     ]
    }
   ],
   "source": [
    "import json\n",
    "\n",
    "dic = {\"name\":\"zs\"}\n",
    "res = json.dumps(dic)\n",
    "print(res, type(res))"
   ]
  },
  {
   "cell_type": "code",
   "execution_count": 18,
   "metadata": {},
   "outputs": [
    {
     "name": "stdout",
     "output_type": "stream",
     "text": [
      "{'name': 'zs'} <class 'dict'>\n"
     ]
    }
   ],
   "source": [
    "ret = json.loads(res)\n",
    "print(ret, type(ret))"
   ]
  },
  {
   "cell_type": "markdown",
   "metadata": {},
   "source": [
    "## 86、MyISAM与InnoDB的区别"
   ]
  },
  {
   "cell_type": "markdown",
   "metadata": {},
   "source": [
    "1. InnoDB支持事务，MyISAM不支持，这一点非常重要。事务是一种高级的处理方式，如在一些列增删改中只要那个出错还可以回滚还原，而MyISAM就不可以。\n",
    "\n",
    "2. MyISAM适合查询以及插入为主的应用，InnoDB适合频繁修改以及涉及到安全比较高的应用。\n",
    "\n",
    "3. InnoDB支持外键，MyISAM不支持。\n",
    "\n",
    "4. 对于自增长的字段，InnoDB中必须包含只有该字段的索引，但是在MyISAM表中可以和其他字段一起建立联合索引。\n",
    "\n",
    "5. 清空整个表时，InnoDB是一行一行删除，效率非常慢。MyISAM则会重新建表。"
   ]
  },
  {
   "cell_type": "markdown",
   "metadata": {},
   "source": [
    "## 87、统计字符串中某个字符出现的次数"
   ]
  },
  {
   "cell_type": "code",
   "execution_count": 1,
   "metadata": {},
   "outputs": [
    {
     "name": "stdout",
     "output_type": "stream",
     "text": [
      "4\n"
     ]
    }
   ],
   "source": [
    "str = \" abfdswasfdcdsffadsdffaex\"\n",
    "res = str.count(\"a\")\n",
    "print(res)"
   ]
  },
  {
   "cell_type": "markdown",
   "metadata": {},
   "source": [
    "## 88、字符串转换大小写"
   ]
  },
  {
   "cell_type": "code",
   "execution_count": 2,
   "metadata": {},
   "outputs": [],
   "source": [
    "str = \"fsdfHDKFBJS\""
   ]
  },
  {
   "cell_type": "code",
   "execution_count": 3,
   "metadata": {},
   "outputs": [
    {
     "name": "stdout",
     "output_type": "stream",
     "text": [
      "FSDFHDKFBJS\n"
     ]
    }
   ],
   "source": [
    "print(str.upper())"
   ]
  },
  {
   "cell_type": "code",
   "execution_count": 4,
   "metadata": {},
   "outputs": [
    {
     "name": "stdout",
     "output_type": "stream",
     "text": [
      "fsdfhdkfbjs\n"
     ]
    }
   ],
   "source": [
    "print(str.lower())"
   ]
  },
  {
   "cell_type": "markdown",
   "metadata": {},
   "source": [
    "## 89、用两种方法去空格"
   ]
  },
  {
   "cell_type": "code",
   "execution_count": 5,
   "metadata": {},
   "outputs": [],
   "source": [
    "str = \"hello world ha ha ha \""
   ]
  },
  {
   "cell_type": "code",
   "execution_count": 6,
   "metadata": {},
   "outputs": [
    {
     "name": "stdout",
     "output_type": "stream",
     "text": [
      "helloworldhahaha\n"
     ]
    }
   ],
   "source": [
    "res = str.replace(\" \",\"\")\n",
    "print(res)"
   ]
  },
  {
   "cell_type": "code",
   "execution_count": 7,
   "metadata": {},
   "outputs": [
    {
     "name": "stdout",
     "output_type": "stream",
     "text": [
      "helloworldhahaha\n"
     ]
    }
   ],
   "source": [
    "list = str.split(\" \")\n",
    "res = \"\".join(list)\n",
    "print(res)"
   ]
  },
  {
   "cell_type": "markdown",
   "metadata": {},
   "source": [
    "## 90、正则匹配不是以4和7结尾的手机号"
   ]
  },
  {
   "cell_type": "code",
   "execution_count": 8,
   "metadata": {},
   "outputs": [],
   "source": [
    "tels = [\"15110213224\", \"15110213227\", \"10086\", \"15552548888\"]"
   ]
  },
  {
   "cell_type": "code",
   "execution_count": 12,
   "metadata": {},
   "outputs": [
    {
     "name": "stdout",
     "output_type": "stream",
     "text": [
      "15110213224 不是想要的结果\n",
      "15110213227 不是想要的结果\n",
      "10086 不是想要的结果\n",
      "想要的结果 15552548888\n"
     ]
    }
   ],
   "source": [
    "import re\n",
    "for tel in tels:\n",
    "    ret = re.match(\"1\\d{9}[0-3, 5-6, 8-9]\", tel)\n",
    "    if ret:\n",
    "        print(\"想要的结果\", ret.group())\n",
    "    else:\n",
    "        print(\"%s 不是想要的结果\" %tel)"
   ]
  },
  {
   "cell_type": "markdown",
   "metadata": {},
   "source": [
    "## 91、简述Python的引用计数机制"
   ]
  },
  {
   "cell_type": "markdown",
   "metadata": {},
   "source": [
    "python垃圾回收主要以引用计数为主，标记-清除和分带清除为辅的机制。其中标记-清除和分代回收主要是为了处理循环引用的难题。"
   ]
  },
  {
   "cell_type": "markdown",
   "metadata": {},
   "source": [
    "#### 引用计数法\n",
    "- 当有一个变量保存了对象的引用时，此对象的引用计数就会加1。\n",
    "- 当del删除变量指向的对象时，如果对象的引用计数不为1，比如3，那么此时只会让这个引用计数减1，即变为2，当再次调用del时，变为1，如果在调用1次del，此时会真的把对象删除。"
   ]
  },
  {
   "cell_type": "code",
   "execution_count": 33,
   "metadata": {},
   "outputs": [],
   "source": [
    "import time\n",
    "class Animal(object):\n",
    "    \n",
    "    def __init__(self, name):\n",
    "        print('__init__方法被调用')\n",
    "        self.__name = name\n",
    "    \n",
    "    def __def__(self):\n",
    "        print('__del__方法被调用')\n",
    "        print('%s对象马上被干掉了。。。' % self.__name)"
   ]
  },
  {
   "cell_type": "code",
   "execution_count": 34,
   "metadata": {},
   "outputs": [
    {
     "name": "stdout",
     "output_type": "stream",
     "text": [
      "__init__方法被调用\n"
     ]
    }
   ],
   "source": [
    "cat= Animal(\"波斯猫\")\n",
    "cat2 = cat\n",
    "cat3 = cat"
   ]
  },
  {
   "cell_type": "code",
   "execution_count": 35,
   "metadata": {},
   "outputs": [
    {
     "name": "stdout",
     "output_type": "stream",
     "text": [
      "126098176 126098176 126098176\n"
     ]
    }
   ],
   "source": [
    "print(id(cat), id(cat2), id(cat3))"
   ]
  },
  {
   "cell_type": "code",
   "execution_count": 36,
   "metadata": {},
   "outputs": [],
   "source": [
    "del cat"
   ]
  },
  {
   "cell_type": "code",
   "execution_count": 37,
   "metadata": {},
   "outputs": [],
   "source": [
    "del cat2"
   ]
  },
  {
   "cell_type": "code",
   "execution_count": 38,
   "metadata": {},
   "outputs": [],
   "source": [
    "del cat3"
   ]
  },
  {
   "cell_type": "markdown",
   "metadata": {},
   "source": [
    "## 92、int(\"1.4\")和Int(1.4)的输出结果"
   ]
  },
  {
   "cell_type": "code",
   "execution_count": 39,
   "metadata": {},
   "outputs": [
    {
     "ename": "ValueError",
     "evalue": "invalid literal for int() with base 10: '1.4'",
     "output_type": "error",
     "traceback": [
      "\u001b[1;31m---------------------------------------------------------------------------\u001b[0m",
      "\u001b[1;31mValueError\u001b[0m                                Traceback (most recent call last)",
      "\u001b[1;32m<ipython-input-39-3b25660b9aa0>\u001b[0m in \u001b[0;36m<module>\u001b[1;34m()\u001b[0m\n\u001b[1;32m----> 1\u001b[1;33m \u001b[0mint\u001b[0m\u001b[1;33m(\u001b[0m\u001b[1;34m'1.4'\u001b[0m\u001b[1;33m)\u001b[0m\u001b[1;33m\u001b[0m\u001b[0m\n\u001b[0m",
      "\u001b[1;31mValueError\u001b[0m: invalid literal for int() with base 10: '1.4'"
     ]
    }
   ],
   "source": [
    "int('1.4')"
   ]
  },
  {
   "cell_type": "code",
   "execution_count": 40,
   "metadata": {},
   "outputs": [
    {
     "data": {
      "text/plain": [
       "1"
      ]
     },
     "execution_count": 40,
     "metadata": {},
     "output_type": "execute_result"
    }
   ],
   "source": [
    "int(1.4)"
   ]
  },
  {
   "cell_type": "markdown",
   "metadata": {},
   "source": [
    "## 93、列举三条以上PEP8规则"
   ]
  },
  {
   "cell_type": "markdown",
   "metadata": {},
   "source": [
    "1. 顶级定义之间空两行，比如函数或者类定义\n",
    "2. 方法定义、类定义与第一个方法之间，都应该空一行\n",
    "3. 三引号引进注释\n",
    "4. 使用PyCharm、eclipse一般使用4个空格来缩进代码"
   ]
  },
  {
   "cell_type": "markdown",
   "metadata": {},
   "source": [
    "## 94、正则表达式匹配第一个URL"
   ]
  },
  {
   "cell_type": "markdown",
   "metadata": {},
   "source": [
    "`findall()`结果无需加`group()`,`search()`则需加`group()`提取"
   ]
  },
  {
   "cell_type": "code",
   "execution_count": 43,
   "metadata": {},
   "outputs": [
    {
     "name": "stdout",
     "output_type": "stream",
     "text": [
      "https://www.cnblogs.com/ijia/p/3826990.html.jpg\n"
     ]
    }
   ],
   "source": [
    "import re\n",
    "s = '<img url=\"https://www.cnblogs.com/ijia/p/3826990.html.jpg\">'\n",
    "res = re.findall(r\"https://.*?\\.jpg\", s)[0]\n",
    "print(res)"
   ]
  },
  {
   "cell_type": "code",
   "execution_count": 47,
   "metadata": {},
   "outputs": [
    {
     "name": "stdout",
     "output_type": "stream",
     "text": [
      "https://www.cnblogs.com/ijia/p/3826990.html.jpg\n"
     ]
    }
   ],
   "source": [
    "res = re.search(r\"https://.*?\\.jpg\", s)\n",
    "print(res.group())"
   ]
  },
  {
   "cell_type": "markdown",
   "metadata": {},
   "source": [
    "## 95、正则匹配中文"
   ]
  },
  {
   "cell_type": "code",
   "execution_count": 51,
   "metadata": {},
   "outputs": [
    {
     "name": "stdout",
     "output_type": "stream",
     "text": [
      "['你好', '世界']\n"
     ]
    }
   ],
   "source": [
    "title = '你好，hello，世界'\n",
    "pattern = re.compile(r'[\\u4e00-\\u9fa5]+')\n",
    "res = pattern.findall(title)\n",
    "\n",
    "print(res)"
   ]
  },
  {
   "cell_type": "code",
   "execution_count": 52,
   "metadata": {},
   "outputs": [
    {
     "data": {
      "text/plain": [
       "'你好'"
      ]
     },
     "execution_count": 52,
     "metadata": {},
     "output_type": "execute_result"
    }
   ],
   "source": [
    "pattern.search(title).group()"
   ]
  },
  {
   "cell_type": "markdown",
   "metadata": {},
   "source": [
    "## 96、简述乐观锁和悲观锁"
   ]
  },
  {
   "cell_type": "markdown",
   "metadata": {},
   "source": [
    "** 悲观锁 ** ，就是很悲观。每次去拿数据的时候都认为别人会修改，随意每次在拿数据的时候都会上锁，这样别人想拿这个数据就会block直到它拿到锁。传统的关系 型数据库里面就用了很多这样的锁机制，比如行锁，表锁，读锁，写锁等，都是在操作之前先上锁。"
   ]
  },
  {
   "cell_type": "markdown",
   "metadata": {},
   "source": [
    "** 乐观锁 **， 就是很乐观，每次去拿数据的时候都认为别人不会修改，所以不会上锁，但是在更新的时候会判断此期间别人有没有去更新数据，可以使用版本号等机制。乐观锁适应于多读应用，这样可以提高吞吐。"
   ]
  },
  {
   "cell_type": "markdown",
   "metadata": {},
   "source": [
    "## 97、r、r+、rb、rb+文件打开模式区别"
   ]
  },
  {
   "cell_type": "markdown",
   "metadata": {},
   "source": [
    "-  ** r **: 以只读的方式打开文件\n",
    "- ** w **: 打开一个文件只用于写入。如果该文件已存在则将其覆盖，如果文件不存在，则创建新文件。\n",
    "- ** a **: 打开一个文件用于追加。如果该文件已存在，文件指针将会放在文件的结尾，也就是说，新的内容会被写入到已有内容之后，如果文件不存在，则创建新文件写入。\n",
    "- ** rb **:以二进制打开一个文件用于只读，文件指针将会放在文件开头，这是默认模式。\n",
    "- ** wb **:以二进制打开一个文件只用于写入。如果文件已存在，则将其覆盖，如果文件不存在，则创建新文件。\n",
    "- ** ab **:以二进制打开一个文件用于追加。如果该文件已存在吗，文件指针将会放在文件的结尾。也就是说新的内容会追加到已有内容之后。如果文件不存在，则创建新文件写入。\n",
    "- ** r+ **:打开一个文件用于读写，文件指针放在文件的开头。\n",
    "- ** w+ **:打开一个文件用于读写，如果文件已存在则将其覆盖，如果文件不存在，创建新文件。\n",
    "- ** a+ **：打开一个文件用于读写。如果该文件已经存在，文件指针将放在文件的结尾，文件打开时，是追加模式。如果文件不存在，创建文件用于读写。\n",
    "- ** rb+ **:以二进制格式打开一个文件用于读写，文件指针处于文件的开头。\n",
    "- ** wb+ **:以二进制格式打开一个文件用于读写，如果文件已存在则将其覆盖，如果文件不存在，则创建新文件。\n",
    "- ** ab+ **:以二进制格式打开一个文件用于追加，如果文件已存在，文件指针将会放在文件的结尾，如果文件不存在，创建新文件用于读写。"
   ]
  },
  {
   "cell_type": "markdown",
   "metadata": {},
   "source": [
    "## 98、Linux命令重定向`>`和`>>`"
   ]
  },
  {
   "cell_type": "markdown",
   "metadata": {},
   "source": [
    "linux允许命令执行结果重定向到一个文件\n",
    "\n",
    "将本应该显示在终端上的内容，输出/追加 到指定文件中\n",
    "\n",
    "`>`表示输出，会覆盖文件的原有内容\n",
    "\n",
    "`>>`表示追加，会将内容追加盗亦有文件的末尾\n",
    "\n",
    "#### 用法示例\n",
    "将echo输出的信息保存到 1.txt 里， `echo hello python >1.txt` \n",
    "\n",
    "将tree输出的信息追加到 1.txt 文件的末尾， `tree >> 1.txt`"
   ]
  },
  {
   "cell_type": "markdown",
   "metadata": {},
   "source": [
    "## 99、正则表达式匹配出`<html><h1>www.itcast.cn</h1></html>`"
   ]
  },
  {
   "cell_type": "code",
   "execution_count": 4,
   "metadata": {},
   "outputs": [
    {
     "name": "stdout",
     "output_type": "stream",
     "text": [
      "<html><h1>www.itcast.cn</h1></html> 是符合要求的标签\n",
      "<html><h1>www.itcast.cn</h2></html> 不符合要求\n"
     ]
    }
   ],
   "source": [
    "import re\n",
    "\n",
    "labels = [\"<html><h1>www.itcast.cn</h1></html>\", \"<html><h1>www.itcast.cn</h2></html>\"]\n",
    "for label in labels:\n",
    "    ret = re.match(r\"<(\\w*)><(\\w*)>.*?</\\2></\\1>\", label)\n",
    "    if ret:\n",
    "        print(\"%s 是符合要求的标签\" % ret.group())\n",
    "    else:\n",
    "        print(\"%s 不符合要求\" % label)"
   ]
  },
  {
   "cell_type": "markdown",
   "metadata": {},
   "source": [
    "## 100、python是传参还是传地址"
   ]
  },
  {
   "cell_type": "markdown",
   "metadata": {},
   "source": [
    "Python函数参数是引用传递（注意不是值传递）。对于不可变数据类型（数值型，字符串，元组），因变量不能修改，所以运算不会影响到变量自身；\n",
    "\n",
    "对于可变数据类型（列表，字典），函数体运算可能会更改传入的参数变量。\n"
   ]
  },
  {
   "cell_type": "code",
   "execution_count": 5,
   "metadata": {},
   "outputs": [],
   "source": [
    "def selfAdd(a):\n",
    "    a += a"
   ]
  },
  {
   "cell_type": "code",
   "execution_count": 8,
   "metadata": {},
   "outputs": [
    {
     "name": "stdout",
     "output_type": "stream",
     "text": [
      "1\n"
     ]
    }
   ],
   "source": [
    "a_int = 1\n",
    "print(a_int)"
   ]
  },
  {
   "cell_type": "code",
   "execution_count": 9,
   "metadata": {},
   "outputs": [
    {
     "name": "stdout",
     "output_type": "stream",
     "text": [
      "1\n"
     ]
    }
   ],
   "source": [
    "selfAdd(a_int)\n",
    "print(a_int)"
   ]
  },
  {
   "cell_type": "code",
   "execution_count": 10,
   "metadata": {},
   "outputs": [
    {
     "name": "stdout",
     "output_type": "stream",
     "text": [
      "[1, 2]\n"
     ]
    }
   ],
   "source": [
    "a_list = [1, 2]\n",
    "print(a_list)"
   ]
  },
  {
   "cell_type": "code",
   "execution_count": 11,
   "metadata": {},
   "outputs": [
    {
     "name": "stdout",
     "output_type": "stream",
     "text": [
      "[1, 2, 1, 2]\n"
     ]
    }
   ],
   "source": [
    "selfAdd(a_list)\n",
    "print(a_list)"
   ]
  },
  {
   "cell_type": "markdown",
   "metadata": {},
   "source": [
    "## 101、求两个列表的交集、差集、并集"
   ]
  },
  {
   "cell_type": "code",
   "execution_count": 1,
   "metadata": {},
   "outputs": [],
   "source": [
    "a = [1,2,3,4]\n",
    "b = [4,3,5,6]"
   ]
  },
  {
   "cell_type": "code",
   "execution_count": 3,
   "metadata": {},
   "outputs": [
    {
     "name": "stdout",
     "output_type": "stream",
     "text": [
      "[3, 4]\n"
     ]
    }
   ],
   "source": [
    "#交集\n",
    "jj1 = [i for i in a if i in b]\n",
    "print(jj1)"
   ]
  },
  {
   "cell_type": "code",
   "execution_count": 8,
   "metadata": {},
   "outputs": [
    {
     "name": "stdout",
     "output_type": "stream",
     "text": [
      "[3, 4]\n"
     ]
    }
   ],
   "source": [
    "#交集\n",
    "jj2 = list(set(a).intersection(set(b)))\n",
    "print(jj2)"
   ]
  },
  {
   "cell_type": "code",
   "execution_count": 10,
   "metadata": {},
   "outputs": [
    {
     "name": "stdout",
     "output_type": "stream",
     "text": [
      "[1, 2, 3, 4, 5, 6]\n"
     ]
    }
   ],
   "source": [
    "#并集\n",
    "bj1 = list(set(a).union(set(b)))\n",
    "print(bj1)"
   ]
  },
  {
   "cell_type": "code",
   "execution_count": 14,
   "metadata": {},
   "outputs": [
    {
     "name": "stdout",
     "output_type": "stream",
     "text": [
      "[5, 6]\n"
     ]
    }
   ],
   "source": [
    "#差集\n",
    "cj1 = list(set(b).difference(set(a)))\n",
    "print(cj1)"
   ]
  },
  {
   "cell_type": "code",
   "execution_count": 15,
   "metadata": {},
   "outputs": [
    {
     "name": "stdout",
     "output_type": "stream",
     "text": [
      "[5, 6]\n"
     ]
    }
   ],
   "source": [
    "#差集\n",
    "cj2 = list(set(b).difference(set(a)))\n",
    "print(cj2)"
   ]
  },
  {
   "cell_type": "markdown",
   "metadata": {},
   "source": [
    "## 102、生成0-100的随机数 "
   ]
  },
  {
   "cell_type": "markdown",
   "metadata": {},
   "source": [
    "`random.random()`生成0-1之间的随机数，所以乘以100"
   ]
  },
  {
   "cell_type": "code",
   "execution_count": 17,
   "metadata": {},
   "outputs": [
    {
     "name": "stdout",
     "output_type": "stream",
     "text": [
      "2.529305144004901\n"
     ]
    }
   ],
   "source": [
    "import random\n",
    "\n",
    "res1 = 100*random.random()\n",
    "print(res1)"
   ]
  },
  {
   "cell_type": "code",
   "execution_count": 18,
   "metadata": {},
   "outputs": [
    {
     "name": "stdout",
     "output_type": "stream",
     "text": [
      "59\n"
     ]
    }
   ],
   "source": [
    "res2 = random.choice(range(0,101))\n",
    "print(res2)"
   ]
  },
  {
   "cell_type": "code",
   "execution_count": 19,
   "metadata": {},
   "outputs": [
    {
     "name": "stdout",
     "output_type": "stream",
     "text": [
      "22\n"
     ]
    }
   ],
   "source": [
    "res3 = random.randint(1,100)\n",
    "print(res3)"
   ]
  },
  {
   "cell_type": "markdown",
   "metadata": {},
   "source": [
    "## 103、lambda匿名函数的好处"
   ]
  },
  {
   "cell_type": "markdown",
   "metadata": {},
   "source": [
    "精简代码，lambda省去；额定义函数，map()省去了写for循环的过程"
   ]
  },
  {
   "cell_type": "code",
   "execution_count": 20,
   "metadata": {},
   "outputs": [
    {
     "name": "stdout",
     "output_type": "stream",
     "text": [
      "['苏州', '中国', '哈哈', '填充值', '填充值', '日本', '填充值', '填充值', '德国']\n"
     ]
    }
   ],
   "source": [
    "a = [\"苏州\", \"中国\", \"哈哈\", \"\", \"\", \"日本\", \"\", \"\", \"德国\"]\n",
    "res = list(map(lambda x:\"填充值\" if x==\"\" else x,a))\n",
    "print(res)"
   ]
  },
  {
   "cell_type": "markdown",
   "metadata": {},
   "source": [
    "## 104、常见的网络传输协议"
   ]
  },
  {
   "cell_type": "markdown",
   "metadata": {},
   "source": [
    " UDP、TCP、FTP、HTTP、SMTP等等"
   ]
  },
  {
   "cell_type": "markdown",
   "metadata": {},
   "source": [
    "##  105、单引号、双引号、三引号用法"
   ]
  },
  {
   "cell_type": "markdown",
   "metadata": {},
   "source": [
    "1. 单引号和双引号没什么区别，单引号打字稍微快点。表示字符的时候，单引号里面可以用双引号，而不用转义字符。\n",
    "\n",
    "2. 如果直接在单引号内使用单引号，则需要转义。\n",
    "\n",
    "3. 三引号可以直接书写多行，通常用于大段，大篇幅的字符串"
   ]
  },
  {
   "cell_type": "markdown",
   "metadata": {},
   "source": [
    "## 106、python的垃圾回收机制"
   ]
  },
  {
   "cell_type": "markdown",
   "metadata": {},
   "source": [
    "python的垃圾回收机制主要以引用计数为主，标记-清除和分代清除为辅的机制，其中标记-清除和分代回收主要是为了处理循环引用的难题。"
   ]
  },
  {
   "cell_type": "markdown",
   "metadata": {},
   "source": [
    "## 107、http请求get和post区别"
   ]
  },
  {
   "cell_type": "markdown",
   "metadata": {},
   "source": [
    "1. Get是通过URL直接请求数据，数据信息可以再URL中直接看到，比如浏览器访问；而post请求是放在请求头当中我们是无法直接看到的。\n",
    "\n",
    "2. Get提交有数据大小限制，一般是不超过1024字节，而这种说法也不完全准确，http协议也没有设定url字节长度的限制，而是浏览器做了一些处理，长度依据浏览器的不同而不同；POST请求在http中也没有做说明，一般来说是没有设置限定的，但实际上浏览器也有默认的值。总的来说，少量的数据使用GET，大量的数据使用POST。\n",
    "\n",
    "3. GET请求参数是暴露在url中的，所以安全性比较低，如密码是不能暴露的，就不能使用能够Get请求；POST请求中，请求参数信息放在请求头，所以安全性比较高，可以使用。在实际中，涉及到登陆操作的时候，尽量使用HTTPS请求，安全性会更好。"
   ]
  },
  {
   "cell_type": "markdown",
   "metadata": {},
   "source": [
    "## 108、python读取Excel文件的方法"
   ]
  },
  {
   "cell_type": "code",
   "execution_count": null,
   "metadata": {},
   "outputs": [],
   "source": [
    "import pandas as pd\n",
    "df = pd.read_excel(\"s.xlsx\")\n",
    "print(df)"
   ]
  },
  {
   "cell_type": "markdown",
   "metadata": {},
   "source": [
    "## 109、简述多线程和多进程"
   ]
  },
  {
   "cell_type": "markdown",
   "metadata": {},
   "source": [
    "#### 进程\n",
    "1. 操作系统进行资源分配和调度的基本单位，多个进程之间相互独立。\n",
    "\n",
    "2. 稳定性好，如果一个进程崩溃，不会影响到其他的进程，但是进程消耗的资源大，开启的数目有限。"
   ]
  },
  {
   "cell_type": "markdown",
   "metadata": {},
   "source": [
    "#### 线程\n",
    "1. CPU进行资源分配和调度的基本单位，线程是进程的一部分，是比进程更小的能运行的基本单位，一个进程下面的多个线程可以共享该进程的所有资源。\n",
    "\n",
    "2. 如果IO操作密集，可以用多线程运行效率高，缺点是如果一个线程奔溃，会造成整个进程崩溃。"
   ]
  },
  {
   "cell_type": "markdown",
   "metadata": {},
   "source": [
    "#### 应用\n",
    "IO密集的用多线程，在用户输入sleep时候，可以切换到其他的线程，减少等待的时间。\n",
    "CPU密集的用多进程，因为假如IO操作少，用多线程的话，因为线程共享一个全局解释器锁，当期线程会霸占GIL，就不能充分利用多核CPU的优势。"
   ]
  },
  {
   "cell_type": "markdown",
   "metadata": {},
   "source": [
    "## 110、python正则search和match"
   ]
  },
  {
   "cell_type": "markdown",
   "metadata": {},
   "source": [
    "search()匹配到第一个匹配到的数据"
   ]
  },
  {
   "cell_type": "code",
   "execution_count": 21,
   "metadata": {},
   "outputs": [
    {
     "name": "stdout",
     "output_type": "stream",
     "text": [
      "18\n"
     ]
    }
   ],
   "source": [
    "import re\n",
    "\n",
    "s = \"小明今年18岁 工资10000\"\n",
    "res = re.search(r\"\\d+\", s).group()\n",
    "print(res)"
   ]
  },
  {
   "cell_type": "markdown",
   "metadata": {},
   "source": [
    "findall(),满足正则，都匹配，不用加group()"
   ]
  },
  {
   "cell_type": "code",
   "execution_count": 22,
   "metadata": {},
   "outputs": [
    {
     "name": "stdout",
     "output_type": "stream",
     "text": [
      "['18', '10000']\n"
     ]
    }
   ],
   "source": [
    "res = re.findall(r\"\\d+\", s)\n",
    "print(res)"
   ]
  },
  {
   "cell_type": "markdown",
   "metadata": {},
   "source": [
    "match()匹配以“小明”开头的字符串，并匹配出小明"
   ]
  },
  {
   "cell_type": "code",
   "execution_count": 23,
   "metadata": {},
   "outputs": [
    {
     "name": "stdout",
     "output_type": "stream",
     "text": [
      "小明\n"
     ]
    }
   ],
   "source": [
    "res = re.match(\"小明\", s).group()\n",
    "print(res)"
   ]
  },
  {
   "cell_type": "code",
   "execution_count": 25,
   "metadata": {},
   "outputs": [
    {
     "name": "stdout",
     "output_type": "stream",
     "text": [
      "None\n"
     ]
    }
   ],
   "source": [
    "res = re.match(r\"\\d+\", s)\n",
    "print(res)"
   ]
  },
  {
   "cell_type": "code",
   "execution_count": 26,
   "metadata": {},
   "outputs": [
    {
     "ename": "AttributeError",
     "evalue": "'NoneType' object has no attribute 'group'",
     "output_type": "error",
     "traceback": [
      "\u001b[1;31m---------------------------------------------------------------------------\u001b[0m",
      "\u001b[1;31mAttributeError\u001b[0m                            Traceback (most recent call last)",
      "\u001b[1;32m<ipython-input-26-766e8b9e4667>\u001b[0m in \u001b[0;36m<module>\u001b[1;34m()\u001b[0m\n\u001b[1;32m----> 1\u001b[1;33m \u001b[0mres\u001b[0m \u001b[1;33m=\u001b[0m \u001b[0mre\u001b[0m\u001b[1;33m.\u001b[0m\u001b[0mmatch\u001b[0m\u001b[1;33m(\u001b[0m\u001b[1;34m\"工资\"\u001b[0m\u001b[1;33m,\u001b[0m \u001b[0ms\u001b[0m\u001b[1;33m)\u001b[0m\u001b[1;33m.\u001b[0m\u001b[0mgroup\u001b[0m\u001b[1;33m(\u001b[0m\u001b[1;33m)\u001b[0m\u001b[1;33m\u001b[0m\u001b[0m\n\u001b[0m\u001b[0;32m      2\u001b[0m \u001b[0mprint\u001b[0m\u001b[1;33m(\u001b[0m\u001b[0mres\u001b[0m\u001b[1;33m)\u001b[0m\u001b[1;33m\u001b[0m\u001b[0m\n",
      "\u001b[1;31mAttributeError\u001b[0m: 'NoneType' object has no attribute 'group'"
     ]
    }
   ],
   "source": [
    "res = re.match(\"工资\", s).group()\n",
    "print(res)"
   ]
  },
  {
   "cell_type": "code",
   "execution_count": null,
   "metadata": {},
   "outputs": [],
   "source": []
  }
 ],
 "metadata": {
  "kernelspec": {
   "display_name": "Python 3",
   "language": "python",
   "name": "python3"
  },
  "language_info": {
   "codemirror_mode": {
    "name": "ipython",
    "version": 3
   },
   "file_extension": ".py",
   "mimetype": "text/x-python",
   "name": "python",
   "nbconvert_exporter": "python",
   "pygments_lexer": "ipython3",
   "version": "3.6.4"
  },
  "latex_envs": {
   "LaTeX_envs_menu_present": true,
   "autoclose": false,
   "autocomplete": true,
   "bibliofile": "biblio.bib",
   "cite_by": "apalike",
   "current_citInitial": 1,
   "eqLabelWithNumbers": true,
   "eqNumInitial": 1,
   "hotkeys": {
    "equation": "Ctrl-E",
    "itemize": "Ctrl-I"
   },
   "labels_anchors": false,
   "latex_user_defs": false,
   "report_style_numbering": false,
   "user_envs_cfg": false
  }
 },
 "nbformat": 4,
 "nbformat_minor": 2
}
